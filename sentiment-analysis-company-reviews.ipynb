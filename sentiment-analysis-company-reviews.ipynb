{
 "cells": [
  {
   "cell_type": "markdown",
   "id": "e623d15a",
   "metadata": {
    "papermill": {
     "duration": 0.016228,
     "end_time": "2023-02-15T01:41:05.415211",
     "exception": false,
     "start_time": "2023-02-15T01:41:05.398983",
     "status": "completed"
    },
    "tags": []
   },
   "source": [
    "# <center>Sentiment Analysis | Company Reviews</center>\n",
    "\n",
    "<center>\n",
    "    <figure>\n",
    "        <img src=\"https://www.surveysensum.com/wp-content/uploads/2020/02/SENTIMENT-09-1.png\" alt =\"Sentiment Analysis\" style='width:80%;'>\n",
    "        <figcaption>\n",
    "            Source: <a href=\"https://www.surveysensum.com/customer-experience/sentiment-analysis/\">[surveysensum.com | Sentiment Analysis: A Thorough Guide For The Data Geek]</a>\n",
    "        </figcaption>\n",
    "    </figure>\n",
    "</center>\n",
    "\n",
    "### 🎯 Objective\n",
    "\n",
    "The objective for this notebook is to build a baseline model which is capable of predicting the sentiment of company reviews left by customers for the [Sentiment Analysis - Company Reviews Competition](https://www.kaggle.com/competitions/sentiment-analysis-company-reviews/overview).\n",
    "\n",
    "### 🤔 So what exactly is Sentiment Analysis?\n",
    "\n",
    "**According to [ChatGPT](https://openai.com/blog/chatgpt/):**\n",
    "\n",
    "> Sentiment analysis, also known as opinion mining, is the process of analyzing and identifying the sentiment, attitude, or emotion expressed in a piece of text, such as a review or a social media post.\n",
    ">\n",
    "> It is commonly used in various industries, such as marketing, customer service, and politics, to understand people's opinions, preferences, and behavior. Sentiment analysis uses natural language processing (NLP) techniques and algorithms to analyze and classify text into different categories, such as positive, negative, or neutral.The process involves pre-processing the text, such as tokenization and stemming, to convert it into a format that can be analyzed by the algorithms.\n",
    ">\n",
    ">Sentiment analysis models can be trained on a dataset of labeled data, which contains examples of text with their corresponding sentiment labels. Alternatively, models can be trained using unsupervised learning techniques, which use clustering and other methods to classify the text without labeled data.\n",
    ">\n",
    ">Sentiment analysis can be performed on various types of text, such as social media posts, product reviews, news articles, and customer feedback. Overall, sentiment analysis is a useful tool for understanding people's opinions and attitudes, and can help businesses make data-driven decisions based on customer feedback.\n",
    "\n",
    "**For more information on Sentiment Analysis, see the following links:**\n",
    "> - [MonkeyLearn | Sentiment Analysis: A Definitive Guide](https://monkeylearn.com/sentiment-analysis/)\n",
    "> - [Thematic | Sentiment Analysis: Comprehensive Beginners Guide](https://getthematic.com/sentiment-analysis/)\n",
    "\n",
    "### 📁 Dataset\n",
    "The dataset for this competition (both train and test) consists of 100,000 reviews collected from Trustpilot and spans over 40 different companies.\n",
    "\n",
    "> Find this competitions dataset here: [Sentiment Analysis - Company Reviews Dataset](https://www.kaggle.com/competitions/sentiment-analysis-company-reviews/data)\n",
    "\n",
    "<br>\n",
    "<hr>\n",
    "\n",
    "## Table of contents\n",
    "\n",
    "- [1 | Dataset Exploration](#1)\n",
    "   > - [Load CSV Files](#1.1)\n",
    "   > - [View Random Selected Samples](#1.2)\n",
    "   > - [View Train Rating Distribution](#1.3)\n",
    "   > - [Inspect Review Lengths & Tokens](#1.4)\n",
    "   > - [View Review Lengths & Review Token Count Histograms](#1.5)\n",
    "  \n",
    "- [2 | Data Preprocessing](#2)\n",
    "   > - [Label Encode Ratings](#2.1)\n",
    "   > - [Create Train/Validation Split](#2.2)\n",
    "   > - [View New Train & Validation Labels Distribution](#2.3)\n",
    "   \n",
    "- [3 | Build Input Data Pipeline with tf.data API](#3)\n",
    "   > - [Define Text Preprocessor](#3.1)\n",
    "   > - [Generate Input Data Pipelines](#3.2)\n",
    "   \n",
    "- [4 | Baseline Model: Universal Sentence Encoder Model](#4)\n",
    "   > - [TensorFlow Hub](#tfhub)\n",
    "   > - [Get Universal Sentence Encoder](#4.1)\n",
    "   > - [Build Model](#4.2)\n",
    "\n",
    "- [5 | Train Baseline Model](#5)\n",
    "   > - [Define Callbacks and Metrics for Model Training](#5.1)\n",
    "   > - [Compile & Train Model](#5.2)\n",
    "   \n",
    "- [6 | Model Performance Evaluation](#6)\n",
    "   > - [View Model Histories](#6.1)\n",
    "   > - [Plot Confusion Matrix](#6.2)\n",
    "   > - [Generate Classification Reports](#6.3)\n",
    "   > - [Record Classification Metrics](#6.4)\n",
    "   \n",
    "- [7 | Generate Submission](#7)\n",
    "   > - [Preprocess Test Reviews](#7.1)\n",
    "   > - [Generate Test Predictions](#7.2)\n",
    "   > - [Generate Submission.csv](#7.3)\n",
    "   \n",
    "- [Conclusion](#conclusion)\n",
    "\n",
    "<br>\n",
    "<hr>"
   ]
  },
  {
   "cell_type": "code",
   "execution_count": 1,
   "id": "3eb82291",
   "metadata": {
    "execution": {
     "iopub.execute_input": "2023-02-15T01:41:05.449530Z",
     "iopub.status.busy": "2023-02-15T01:41:05.448912Z",
     "iopub.status.idle": "2023-02-15T01:41:14.020189Z",
     "shell.execute_reply": "2023-02-15T01:41:14.018371Z"
    },
    "papermill": {
     "duration": 8.590857,
     "end_time": "2023-02-15T01:41:14.023110",
     "exception": false,
     "start_time": "2023-02-15T01:41:05.432253",
     "status": "completed"
    },
    "tags": []
   },
   "outputs": [],
   "source": [
    "import re\n",
    "import random\n",
    "import numpy as np\n",
    "import pandas as pd\n",
    "import matplotlib.pyplot as plt\n",
    "import seaborn as sns\n",
    "\n",
    "import tensorflow as tf\n",
    "import tensorflow_hub as hub\n",
    "from tensorflow.keras import layers\n",
    "from tensorflow.keras.utils import plot_model\n",
    "\n",
    "from sklearn.model_selection import train_test_split\n",
    "from sklearn.metrics import top_k_accuracy_score, classification_report, precision_recall_fscore_support\n",
    "from sklearn.metrics import accuracy_score, f1_score, matthews_corrcoef\n",
    "from sklearn.metrics import confusion_matrix, mean_absolute_error\n",
    "from scikitplot.metrics import plot_roc"
   ]
  },
  {
   "cell_type": "code",
   "execution_count": 2,
   "id": "e04513b4",
   "metadata": {
    "execution": {
     "iopub.execute_input": "2023-02-15T01:41:14.056416Z",
     "iopub.status.busy": "2023-02-15T01:41:14.055495Z",
     "iopub.status.idle": "2023-02-15T01:41:14.060052Z",
     "shell.execute_reply": "2023-02-15T01:41:14.059398Z"
    },
    "papermill": {
     "duration": 0.022769,
     "end_time": "2023-02-15T01:41:14.061857",
     "exception": false,
     "start_time": "2023-02-15T01:41:14.039088",
     "status": "completed"
    },
    "tags": []
   },
   "outputs": [],
   "source": [
    "class CFG:\n",
    "    SEED = 768\n",
    "    BATCH_SIZE = 32\n",
    "    EPOCHS = 10"
   ]
  },
  {
   "cell_type": "markdown",
   "id": "ea1496af",
   "metadata": {
    "papermill": {
     "duration": 0.014536,
     "end_time": "2023-02-15T01:41:14.091511",
     "exception": false,
     "start_time": "2023-02-15T01:41:14.076975",
     "status": "completed"
    },
    "tags": []
   },
   "source": [
    "<a id='1'></a>\n",
    "# 1 | Dataset Exploration        "
   ]
  },
  {
   "cell_type": "code",
   "execution_count": 3,
   "id": "268ace04",
   "metadata": {
    "execution": {
     "iopub.execute_input": "2023-02-15T01:41:14.123530Z",
     "iopub.status.busy": "2023-02-15T01:41:14.122534Z",
     "iopub.status.idle": "2023-02-15T01:41:14.127239Z",
     "shell.execute_reply": "2023-02-15T01:41:14.126410Z"
    },
    "papermill": {
     "duration": 0.023373,
     "end_time": "2023-02-15T01:41:14.129906",
     "exception": false,
     "start_time": "2023-02-15T01:41:14.106533",
     "status": "completed"
    },
    "tags": []
   },
   "outputs": [],
   "source": [
    "# Define paths\n",
    "DATASET_PATH = \"/kaggle/input/sentiment-analysis-company-reviews/\"\n",
    "TRAIN_CSV = '/kaggle/input/sentiment-analysis-company-reviews/train.csv'\n",
    "TEST_CSV = '/kaggle/input/sentiment-analysis-company-reviews/test.csv'\n",
    "SAMPLE_SUB_CSV = '/kaggle/input/sentiment-analysis-company-reviews/sample_submission.csv'"
   ]
  },
  {
   "cell_type": "markdown",
   "id": "6afe984f",
   "metadata": {
    "papermill": {
     "duration": 0.014956,
     "end_time": "2023-02-15T01:41:14.159979",
     "exception": false,
     "start_time": "2023-02-15T01:41:14.145023",
     "status": "completed"
    },
    "tags": []
   },
   "source": [
    "### Load CSV Files"
   ]
  },
  {
   "cell_type": "code",
   "execution_count": 4,
   "id": "3e3415eb",
   "metadata": {
    "execution": {
     "iopub.execute_input": "2023-02-15T01:41:14.192153Z",
     "iopub.status.busy": "2023-02-15T01:41:14.191760Z",
     "iopub.status.idle": "2023-02-15T01:41:15.091061Z",
     "shell.execute_reply": "2023-02-15T01:41:15.089958Z"
    },
    "papermill": {
     "duration": 0.918026,
     "end_time": "2023-02-15T01:41:15.093383",
     "exception": false,
     "start_time": "2023-02-15T01:41:14.175357",
     "status": "completed"
    },
    "tags": []
   },
   "outputs": [],
   "source": [
    "# Load the csv files\n",
    "train_df = pd.read_csv(TRAIN_CSV)\n",
    "test_df = pd.read_csv(TEST_CSV)\n",
    "submission_df = pd.read_csv(SAMPLE_SUB_CSV) "
   ]
  },
  {
   "cell_type": "code",
   "execution_count": 5,
   "id": "1a3140e4",
   "metadata": {
    "execution": {
     "iopub.execute_input": "2023-02-15T01:41:15.125647Z",
     "iopub.status.busy": "2023-02-15T01:41:15.125224Z",
     "iopub.status.idle": "2023-02-15T01:41:15.158926Z",
     "shell.execute_reply": "2023-02-15T01:41:15.157981Z"
    },
    "papermill": {
     "duration": 0.053171,
     "end_time": "2023-02-15T01:41:15.161649",
     "exception": false,
     "start_time": "2023-02-15T01:41:15.108478",
     "status": "completed"
    },
    "tags": []
   },
   "outputs": [
    {
     "name": "stdout",
     "output_type": "stream",
     "text": [
      "<class 'pandas.core.frame.DataFrame'>\n",
      "RangeIndex: 60000 entries, 0 to 59999\n",
      "Data columns (total 3 columns):\n",
      " #   Column  Non-Null Count  Dtype \n",
      "---  ------  --------------  ----- \n",
      " 0   Id      60000 non-null  int64 \n",
      " 1   Review  60000 non-null  object\n",
      " 2   Rating  60000 non-null  int64 \n",
      "dtypes: int64(2), object(1)\n",
      "memory usage: 1.4+ MB\n"
     ]
    }
   ],
   "source": [
    "# Generate summary of the training set\n",
    "train_df.info()"
   ]
  },
  {
   "cell_type": "code",
   "execution_count": 6,
   "id": "740a1c71",
   "metadata": {
    "execution": {
     "iopub.execute_input": "2023-02-15T01:41:15.194440Z",
     "iopub.status.busy": "2023-02-15T01:41:15.194059Z",
     "iopub.status.idle": "2023-02-15T01:41:15.210666Z",
     "shell.execute_reply": "2023-02-15T01:41:15.209173Z"
    },
    "papermill": {
     "duration": 0.036268,
     "end_time": "2023-02-15T01:41:15.213478",
     "exception": false,
     "start_time": "2023-02-15T01:41:15.177210",
     "status": "completed"
    },
    "tags": []
   },
   "outputs": [
    {
     "data": {
      "text/html": [
       "<div>\n",
       "<style scoped>\n",
       "    .dataframe tbody tr th:only-of-type {\n",
       "        vertical-align: middle;\n",
       "    }\n",
       "\n",
       "    .dataframe tbody tr th {\n",
       "        vertical-align: top;\n",
       "    }\n",
       "\n",
       "    .dataframe thead th {\n",
       "        text-align: right;\n",
       "    }\n",
       "</style>\n",
       "<table border=\"1\" class=\"dataframe\">\n",
       "  <thead>\n",
       "    <tr style=\"text-align: right;\">\n",
       "      <th></th>\n",
       "      <th>Id</th>\n",
       "      <th>Review</th>\n",
       "      <th>Rating</th>\n",
       "    </tr>\n",
       "  </thead>\n",
       "  <tbody>\n",
       "    <tr>\n",
       "      <th>0</th>\n",
       "      <td>0</td>\n",
       "      <td>Very good value and a great tv very happy and ...</td>\n",
       "      <td>5</td>\n",
       "    </tr>\n",
       "    <tr>\n",
       "      <th>1</th>\n",
       "      <td>1</td>\n",
       "      <td>After 6 month still can't access my account</td>\n",
       "      <td>3</td>\n",
       "    </tr>\n",
       "    <tr>\n",
       "      <th>2</th>\n",
       "      <td>2</td>\n",
       "      <td>I couldn't make an official review on a produc...</td>\n",
       "      <td>1</td>\n",
       "    </tr>\n",
       "    <tr>\n",
       "      <th>3</th>\n",
       "      <td>3</td>\n",
       "      <td>Fantastic! Extremely easy to use website, fant...</td>\n",
       "      <td>5</td>\n",
       "    </tr>\n",
       "    <tr>\n",
       "      <th>4</th>\n",
       "      <td>4</td>\n",
       "      <td>So far annoyed as hell with this bt monthly pa...</td>\n",
       "      <td>1</td>\n",
       "    </tr>\n",
       "  </tbody>\n",
       "</table>\n",
       "</div>"
      ],
      "text/plain": [
       "   Id                                             Review  Rating\n",
       "0   0  Very good value and a great tv very happy and ...       5\n",
       "1   1        After 6 month still can't access my account       3\n",
       "2   2  I couldn't make an official review on a produc...       1\n",
       "3   3  Fantastic! Extremely easy to use website, fant...       5\n",
       "4   4  So far annoyed as hell with this bt monthly pa...       1"
      ]
     },
     "execution_count": 6,
     "metadata": {},
     "output_type": "execute_result"
    }
   ],
   "source": [
    "# View first 5 training samples\n",
    "train_df.head(5)"
   ]
  },
  {
   "cell_type": "markdown",
   "id": "070e8dd9",
   "metadata": {
    "papermill": {
     "duration": 0.015017,
     "end_time": "2023-02-15T01:41:15.244386",
     "exception": false,
     "start_time": "2023-02-15T01:41:15.229369",
     "status": "completed"
    },
    "tags": []
   },
   "source": [
    "<a id='1.2'></a>\n",
    "### View Random Selected Samples"
   ]
  },
  {
   "cell_type": "code",
   "execution_count": 7,
   "id": "b64fbdfd",
   "metadata": {
    "execution": {
     "iopub.execute_input": "2023-02-15T01:41:15.276403Z",
     "iopub.status.busy": "2023-02-15T01:41:15.276033Z",
     "iopub.status.idle": "2023-02-15T01:41:15.281836Z",
     "shell.execute_reply": "2023-02-15T01:41:15.280845Z"
    },
    "papermill": {
     "duration": 0.0246,
     "end_time": "2023-02-15T01:41:15.284006",
     "exception": false,
     "start_time": "2023-02-15T01:41:15.259406",
     "status": "completed"
    },
    "tags": []
   },
   "outputs": [],
   "source": [
    "def view_samples(df, count=5):\n",
    "    idx = random.sample(train_df.index.to_list(), count)\n",
    "    print('=========================================\\n')\n",
    "    for _ in idx:\n",
    "        print(f'id:\\t{df.Id[_]}\\n')\n",
    "        print(f'Review:\\n{df.Review[_]}\\n')\n",
    "        print(f'Rating:\\n{df.Rating[_]}')\n",
    "        print('=========================================\\n')"
   ]
  },
  {
   "cell_type": "code",
   "execution_count": 8,
   "id": "86d95d57",
   "metadata": {
    "execution": {
     "iopub.execute_input": "2023-02-15T01:41:15.317599Z",
     "iopub.status.busy": "2023-02-15T01:41:15.317210Z",
     "iopub.status.idle": "2023-02-15T01:41:15.327514Z",
     "shell.execute_reply": "2023-02-15T01:41:15.325860Z"
    },
    "papermill": {
     "duration": 0.031008,
     "end_time": "2023-02-15T01:41:15.330086",
     "exception": false,
     "start_time": "2023-02-15T01:41:15.299078",
     "status": "completed"
    },
    "tags": []
   },
   "outputs": [
    {
     "name": "stdout",
     "output_type": "stream",
     "text": [
      "=========================================\n",
      "\n",
      "id:\t13813\n",
      "\n",
      "Review:\n",
      "I HAD THE GREATEST EXPERIENCE WITH CeX!!!!!!\n",
      "The product came in perfect condition and it was a class b!!!! the price was great and i would buy again anytime!!!!!!!!!!\n",
      "\n",
      "Rating:\n",
      "5\n",
      "=========================================\n",
      "\n",
      "id:\t15085\n",
      "\n",
      "Review:\n",
      "Honest review . Awesome app! Made my social go up .\n",
      "\n",
      "Rating:\n",
      "5\n",
      "=========================================\n",
      "\n",
      "id:\t26141\n",
      "\n",
      "Review:\n",
      "Rubbish company..just big name...customer service persons are playing a game like passing phone to each other and put me on hold for 2 hours..I am not hear to play a game ...I am not suggesting not to go with bt... rubbish...rubbish\n",
      "\n",
      "Rating:\n",
      "1\n",
      "=========================================\n",
      "\n",
      "id:\t47628\n",
      "\n",
      "Review:\n",
      "I sold my phone for a price much lower than advertised. When I was in the shop, the price seemed to be a bit low but I was busy and then forgot about it. Until a few days later I saw the original price but by then I got horribly sick. Still sick but eventually went back to the shop. Not their problem, head office apparently.\n",
      "\n",
      "Update: I have filled out the web form and await your response.\n",
      "\n",
      "Rating:\n",
      "2\n",
      "=========================================\n",
      "\n",
      "id:\t25861\n",
      "\n",
      "Review:\n",
      "12 years of issues with access to account. BT advised that I needed to close my account down and start up another because they cannot retain the information that I am an account manager on their database, (An old joint account when set up - no thats not possible we dont do joint accounts I was told. You did 35 years ago)\n",
      "\"it depends on which page the customer service rep is looking\" you are named as the account holder but if the customer services rep looks at the second page you are a third party. ? Can this be amended updated ? Yes every time they amend then within a week it reverts. They cannot reset the password to my second email account. I cannot access the account - they said they might have closed it because of inactivity - erm yes because I cant access it - although it states \"active\" on my bt portal account. Every time we have an issue my husband tells them \"my wife has control of the account she should be named as the account holder and yes she has to repeadetly send herself invites to be the account manager as you dont keep that on your database\" every time for over 12 years. BT said we shouldnt have joint access. BT said we shouldnt share a family email. This morning I was told I should close the account (Broadband, mobile, email) everything and re-open with my name only, my name is on the bill, my name is on the account but because my husband set it up they cant change it on their system. However we will have to send the bt box back lose our email and mobile accounts if I do this. Be careful of the ramifications I was warned. I was warned that by changing my email account I would lose all my emails and wouldnt be able to keep them. A mere technical fault that you expect could be sorted out, resetting a password on a second email address - I just want BT to retain on their page that I am the account manager, and look to provide solutions not brick walls. BT are a provider of services, one of the largest communication conglomerates in the world and they cant maintain account information. No you cannot send them an email, (with screenshots to show them what your account states that your name is there as account holder to understand the confusion) no you cannot deal with one person to resolve a difficulty you have to say it 50 times to different reps. I was told that if I say anything to annoy the rep then they can block my call - this happened, I said \"not to worry about the email - access the more overriding problem was that each time you call you are told you cannot have a discussion, then the following day a call saying oh yes you are the account holder, huge apologies the rep wasnt looking at the right information\" this apparently annoyed the rep. So I have been told to close the account down and re-open it. I was given duplicitous information so many times I dont know what to believe - I am out of contract and yet this morning they advised me I am in contract and cannot move. BT we need to trust you, you need to trust us, you could be splitting up with your husband I was rebuked with - then why is my husband telling you I am the account holder.... and seriously no email communications just random call centres from a company thats latest press release states \"why digital skills are essential for an inclusive and sustainable society\" - they cant get the basics of communication right - they dont have the digital skills to resolve a customer issue \"Im sorry all I can do is send you a link to reset the password\" no in fact you cant its a digital pin I generate, but you need to reactive the account in order for this to work. My email account My data - surely this is against GDPR . DO NOT SIGN UP WITH BT DO NOT RENEW ANY CONTRACTS keep your emails separate to your broadband provider keep your mobiles separate etc etc Make the change the new provider will assist and yes you can download your emails - there must be a way of saving emails or forwarding them on to a new inbox. Only way to cancel - speak to the same reps that dont answer, days of trying to get through. Of course if you want to set up a contract the call is answered rather speedily! Funny that! Ive read so many isues with people trying to cancel their contracts - you cant complain to the ombudsman becuase BT need to issue you a deadlock letter to say the issue cannot be resolved, which of course they will not.\n",
      "\n",
      "Rating:\n",
      "1\n",
      "=========================================\n",
      "\n"
     ]
    }
   ],
   "source": [
    "# View 5 randomly selected samples\n",
    "view_samples(train_df, count=5)"
   ]
  },
  {
   "cell_type": "markdown",
   "id": "4146a02e",
   "metadata": {
    "papermill": {
     "duration": 0.015236,
     "end_time": "2023-02-15T01:41:15.360995",
     "exception": false,
     "start_time": "2023-02-15T01:41:15.345759",
     "status": "completed"
    },
    "tags": []
   },
   "source": [
    "<a id='1.3'></a>\n",
    "### View Train Rating Distribution"
   ]
  },
  {
   "cell_type": "code",
   "execution_count": 9,
   "id": "fd593ecf",
   "metadata": {
    "execution": {
     "iopub.execute_input": "2023-02-15T01:41:15.394126Z",
     "iopub.status.busy": "2023-02-15T01:41:15.393775Z",
     "iopub.status.idle": "2023-02-15T01:41:15.590434Z",
     "shell.execute_reply": "2023-02-15T01:41:15.589411Z"
    },
    "papermill": {
     "duration": 0.216151,
     "end_time": "2023-02-15T01:41:15.592833",
     "exception": false,
     "start_time": "2023-02-15T01:41:15.376682",
     "status": "completed"
    },
    "tags": []
   },
   "outputs": [
    {
     "data": {
      "image/png": "[encoded data removed]",
      "text/plain": [
       "<Figure size 1080x576 with 1 Axes>"
      ]
     },
     "metadata": {
      "needs_background": "light"
     },
     "output_type": "display_data"
    }
   ],
   "source": [
    "# View Train Rating Distribution\n",
    "plt.figure(figsize=(15, 8))\n",
    "plt.title('Train Rating Distribution', fontsize=20)\n",
    "\n",
    "train_distribution = train_df['Rating'].value_counts().sort_values()\n",
    "sns.barplot(x=list(train_distribution.keys()),\n",
    "            y=train_distribution.values);"
   ]
  },
  {
   "cell_type": "markdown",
   "id": "40732db2",
   "metadata": {
    "papermill": {
     "duration": 0.015751,
     "end_time": "2023-02-15T01:41:15.624499",
     "exception": false,
     "start_time": "2023-02-15T01:41:15.608748",
     "status": "completed"
    },
    "tags": []
   },
   "source": [
    "<div class=\"alert alert-block alert-info\">\n",
    "    <h4>Observation</h4>\n",
    "    We observe that <b>the dataset is severly imbalanced</b> with review with ratings of 1 and 5 make up the majority of the dataset's reviews. Techniques such as undersampling, oversampling or weighted training should be considered. However, this notebook will only focus on the baseline model and will not cover the implementation of these techniques. It should be noted that this behavior in the data is most likely representative of customer behavior (customers would rather give a rating of 1 or 5 and ratings in between siginify mixed opinions). \n",
    "</div>"
   ]
  },
  {
   "cell_type": "markdown",
   "id": "475ce5b6",
   "metadata": {
    "papermill": {
     "duration": 0.015752,
     "end_time": "2023-02-15T01:41:15.656136",
     "exception": false,
     "start_time": "2023-02-15T01:41:15.640384",
     "status": "completed"
    },
    "tags": []
   },
   "source": [
    "<a id='1.4'></a>\n",
    "### Inspect Review Lengths & Tokens"
   ]
  },
  {
   "cell_type": "code",
   "execution_count": 10,
   "id": "044008ca",
   "metadata": {
    "execution": {
     "iopub.execute_input": "2023-02-15T01:41:15.691069Z",
     "iopub.status.busy": "2023-02-15T01:41:15.690018Z",
     "iopub.status.idle": "2023-02-15T01:41:15.908243Z",
     "shell.execute_reply": "2023-02-15T01:41:15.906818Z"
    },
    "papermill": {
     "duration": 0.238688,
     "end_time": "2023-02-15T01:41:15.910927",
     "exception": false,
     "start_time": "2023-02-15T01:41:15.672239",
     "status": "completed"
    },
    "tags": []
   },
   "outputs": [],
   "source": [
    "# Get the lengths of each review\n",
    "train_df['review_length'] = [len(_) for _ in train_df.Review]\n",
    "\n",
    "# Get the number of tokens per review \n",
    "train_df['token_count'] = [len(_.split()) for _ in train_df.Review]"
   ]
  },
  {
   "cell_type": "code",
   "execution_count": 11,
   "id": "da5febd5",
   "metadata": {
    "execution": {
     "iopub.execute_input": "2023-02-15T01:41:15.945458Z",
     "iopub.status.busy": "2023-02-15T01:41:15.945060Z",
     "iopub.status.idle": "2023-02-15T01:41:15.956809Z",
     "shell.execute_reply": "2023-02-15T01:41:15.955892Z"
    },
    "papermill": {
     "duration": 0.032203,
     "end_time": "2023-02-15T01:41:15.959489",
     "exception": false,
     "start_time": "2023-02-15T01:41:15.927286",
     "status": "completed"
    },
    "tags": []
   },
   "outputs": [
    {
     "data": {
      "text/html": [
       "<div>\n",
       "<style scoped>\n",
       "    .dataframe tbody tr th:only-of-type {\n",
       "        vertical-align: middle;\n",
       "    }\n",
       "\n",
       "    .dataframe tbody tr th {\n",
       "        vertical-align: top;\n",
       "    }\n",
       "\n",
       "    .dataframe thead th {\n",
       "        text-align: right;\n",
       "    }\n",
       "</style>\n",
       "<table border=\"1\" class=\"dataframe\">\n",
       "  <thead>\n",
       "    <tr style=\"text-align: right;\">\n",
       "      <th></th>\n",
       "      <th>Id</th>\n",
       "      <th>Review</th>\n",
       "      <th>Rating</th>\n",
       "      <th>review_length</th>\n",
       "      <th>token_count</th>\n",
       "    </tr>\n",
       "  </thead>\n",
       "  <tbody>\n",
       "    <tr>\n",
       "      <th>0</th>\n",
       "      <td>0</td>\n",
       "      <td>Very good value and a great tv very happy and ...</td>\n",
       "      <td>5</td>\n",
       "      <td>89</td>\n",
       "      <td>18</td>\n",
       "    </tr>\n",
       "    <tr>\n",
       "      <th>1</th>\n",
       "      <td>1</td>\n",
       "      <td>After 6 month still can't access my account</td>\n",
       "      <td>3</td>\n",
       "      <td>43</td>\n",
       "      <td>8</td>\n",
       "    </tr>\n",
       "    <tr>\n",
       "      <th>2</th>\n",
       "      <td>2</td>\n",
       "      <td>I couldn't make an official review on a produc...</td>\n",
       "      <td>1</td>\n",
       "      <td>496</td>\n",
       "      <td>92</td>\n",
       "    </tr>\n",
       "    <tr>\n",
       "      <th>3</th>\n",
       "      <td>3</td>\n",
       "      <td>Fantastic! Extremely easy to use website, fant...</td>\n",
       "      <td>5</td>\n",
       "      <td>197</td>\n",
       "      <td>32</td>\n",
       "    </tr>\n",
       "    <tr>\n",
       "      <th>4</th>\n",
       "      <td>4</td>\n",
       "      <td>So far annoyed as hell with this bt monthly pa...</td>\n",
       "      <td>1</td>\n",
       "      <td>222</td>\n",
       "      <td>49</td>\n",
       "    </tr>\n",
       "  </tbody>\n",
       "</table>\n",
       "</div>"
      ],
      "text/plain": [
       "   Id                                             Review  Rating  \\\n",
       "0   0  Very good value and a great tv very happy and ...       5   \n",
       "1   1        After 6 month still can't access my account       3   \n",
       "2   2  I couldn't make an official review on a produc...       1   \n",
       "3   3  Fantastic! Extremely easy to use website, fant...       5   \n",
       "4   4  So far annoyed as hell with this bt monthly pa...       1   \n",
       "\n",
       "   review_length  token_count  \n",
       "0             89           18  \n",
       "1             43            8  \n",
       "2            496           92  \n",
       "3            197           32  \n",
       "4            222           49  "
      ]
     },
     "execution_count": 11,
     "metadata": {},
     "output_type": "execute_result"
    }
   ],
   "source": [
    "# View first 5 samples \n",
    "train_df.head(5)"
   ]
  },
  {
   "cell_type": "code",
   "execution_count": 12,
   "id": "7e3f009c",
   "metadata": {
    "execution": {
     "iopub.execute_input": "2023-02-15T01:41:15.993366Z",
     "iopub.status.busy": "2023-02-15T01:41:15.992957Z",
     "iopub.status.idle": "2023-02-15T01:41:16.008171Z",
     "shell.execute_reply": "2023-02-15T01:41:16.006704Z"
    },
    "papermill": {
     "duration": 0.034847,
     "end_time": "2023-02-15T01:41:16.010699",
     "exception": false,
     "start_time": "2023-02-15T01:41:15.975852",
     "status": "completed"
    },
    "tags": []
   },
   "outputs": [
    {
     "name": "stdout",
     "output_type": "stream",
     "text": [
      "Review Length Description\n",
      "==================================\n",
      "count    60000.000000\n",
      "mean       309.070083\n",
      "std        423.772492\n",
      "min         31.000000\n",
      "25%         82.000000\n",
      "50%        164.000000\n",
      "75%        358.000000\n",
      "max       7794.000000\n",
      "Name: review_length, dtype: float64\n",
      "==================================\n"
     ]
    }
   ],
   "source": [
    "# Inspect Review Length Stats\n",
    "print('Review Length Description')\n",
    "print('==================================')\n",
    "print(train_df['review_length'].describe())\n",
    "print('==================================')"
   ]
  },
  {
   "cell_type": "code",
   "execution_count": 13,
   "id": "a2eb1886",
   "metadata": {
    "execution": {
     "iopub.execute_input": "2023-02-15T01:41:16.044993Z",
     "iopub.status.busy": "2023-02-15T01:41:16.043853Z",
     "iopub.status.idle": "2023-02-15T01:41:16.055952Z",
     "shell.execute_reply": "2023-02-15T01:41:16.054096Z"
    },
    "papermill": {
     "duration": 0.031386,
     "end_time": "2023-02-15T01:41:16.058111",
     "exception": false,
     "start_time": "2023-02-15T01:41:16.026725",
     "status": "completed"
    },
    "tags": []
   },
   "outputs": [
    {
     "name": "stdout",
     "output_type": "stream",
     "text": [
      "Token Count Description\n",
      "==================================\n",
      "count    60000.00000\n",
      "mean        56.56325\n",
      "std         79.35289\n",
      "min          1.00000\n",
      "25%         14.00000\n",
      "50%         29.00000\n",
      "75%         66.00000\n",
      "max       1439.00000\n",
      "Name: token_count, dtype: float64\n",
      "==================================\n"
     ]
    }
   ],
   "source": [
    "# Inspect Token Count Stats\n",
    "print('Token Count Description')\n",
    "print('==================================')\n",
    "print(train_df['token_count'].describe())\n",
    "print('==================================')"
   ]
  },
  {
   "cell_type": "code",
   "execution_count": 14,
   "id": "a1a7b9ee",
   "metadata": {
    "execution": {
     "iopub.execute_input": "2023-02-15T01:41:16.093976Z",
     "iopub.status.busy": "2023-02-15T01:41:16.092666Z",
     "iopub.status.idle": "2023-02-15T01:41:17.933341Z",
     "shell.execute_reply": "2023-02-15T01:41:17.931953Z"
    },
    "papermill": {
     "duration": 1.861855,
     "end_time": "2023-02-15T01:41:17.936920",
     "exception": false,
     "start_time": "2023-02-15T01:41:16.075065",
     "status": "completed"
    },
    "tags": []
   },
   "outputs": [
    {
     "data": {
      "image/png": "[encoded data removed]",
      "text/plain": [
       "<Figure size 1008x720 with 2 Axes>"
      ]
     },
     "metadata": {
      "needs_background": "light"
     },
     "output_type": "display_data"
    }
   ],
   "source": [
    "fig, (ax1, ax2) = plt.subplots(2, figsize=(14, 10))\n",
    "\n",
    "# Set the spacing between subplots\n",
    "fig.tight_layout(pad=6.0)\n",
    "\n",
    "# Plot Range of Review Lengths per Rating\n",
    "ax1.set_title('Review Lengths per Rating', fontsize=20)\n",
    "sns.barplot(data=train_df, x='review_length', y='Rating',\n",
    "            orient=\"h\",\n",
    "            ax=ax1)\n",
    "\n",
    "# Plot Range of Token Counts per Rating\n",
    "ax2.set_title('Token Counts per Rating', fontsize=20)\n",
    "sns.barplot(data=train_df, x='token_count', y='Rating',\n",
    "            orient=\"h\",\n",
    "            ax=ax2);"
   ]
  },
  {
   "cell_type": "markdown",
   "id": "1544d129",
   "metadata": {
    "papermill": {
     "duration": 0.016974,
     "end_time": "2023-02-15T01:41:17.974219",
     "exception": false,
     "start_time": "2023-02-15T01:41:17.957245",
     "status": "completed"
    },
    "tags": []
   },
   "source": [
    "<div class=\"alert alert-block alert-info\">\n",
    "    <h4>Observation</h4>\n",
    "    We observe that the length of the reviews increase the more unsatisfied the customers are with the companies. The same observation can be made for the number of tokens per review. The reason for this may be that customers tend to explain or describe their opinions/experiences in great detail the more unsatisfied they are with the companies. This reason may also explain why reviews with higher ratings are generally shorter with less tokens present as this signifies satification amongst customers.\n",
    "</div>"
   ]
  },
  {
   "cell_type": "markdown",
   "id": "a45a11e5",
   "metadata": {
    "papermill": {
     "duration": 0.016578,
     "end_time": "2023-02-15T01:41:18.007526",
     "exception": false,
     "start_time": "2023-02-15T01:41:17.990948",
     "status": "completed"
    },
    "tags": []
   },
   "source": [
    "<a id='1.5'></a>\n",
    "### View Review Lengths & Review Token Count Histograms"
   ]
  },
  {
   "cell_type": "code",
   "execution_count": 15,
   "id": "b5ae07b1",
   "metadata": {
    "execution": {
     "iopub.execute_input": "2023-02-15T01:41:18.042659Z",
     "iopub.status.busy": "2023-02-15T01:41:18.042297Z",
     "iopub.status.idle": "2023-02-15T01:41:18.550785Z",
     "shell.execute_reply": "2023-02-15T01:41:18.549239Z"
    },
    "papermill": {
     "duration": 0.528893,
     "end_time": "2023-02-15T01:41:18.553142",
     "exception": false,
     "start_time": "2023-02-15T01:41:18.024249",
     "status": "completed"
    },
    "tags": []
   },
   "outputs": [
    {
     "data": {
      "image/png": "[encoded data removed]",
      "text/plain": [
       "<Figure size 1008x720 with 2 Axes>"
      ]
     },
     "metadata": {
      "needs_background": "light"
     },
     "output_type": "display_data"
    }
   ],
   "source": [
    "fig, (ax1, ax2) = plt.subplots(2, figsize=(14, 10))\n",
    "\n",
    "# Set the spacing between subplots\n",
    "fig.tight_layout(pad=6.0)\n",
    "\n",
    "# Generate Train Rating Histogram\n",
    "ax1.set_title('Train Review Length Histogram', fontsize=20)\n",
    "sns.histplot(data=train_df, x='review_length', bins=50,\n",
    "            ax=ax1)\n",
    "\n",
    "# Generate Train Token Count Histogram\n",
    "ax2.set_title('Train Token Count Histogram', fontsize=20)\n",
    "sns.histplot(data=train_df, x='token_count', bins=50,\n",
    "            ax=ax2);"
   ]
  },
  {
   "cell_type": "markdown",
   "id": "6e1f2b9c",
   "metadata": {
    "papermill": {
     "duration": 0.016715,
     "end_time": "2023-02-15T01:41:18.586858",
     "exception": false,
     "start_time": "2023-02-15T01:41:18.570143",
     "status": "completed"
    },
    "tags": []
   },
   "source": [
    "<div class=\"alert alert-block alert-info\">\n",
    "    <h4>Observation</h4>\n",
    "    We observe that the majority of review lengths are under a length of ~1000. We also observe that the review token counts are generally under ~300 tokens. These factors should be considered when selecting the number of tokens to be used in a model. Selecting the number of tokens to be used in model via percentiles may prove to be helpful. However, this will not be covered in this notebook.\n",
    "</div>"
   ]
  },
  {
   "cell_type": "markdown",
   "id": "755b80bc",
   "metadata": {
    "papermill": {
     "duration": 0.016921,
     "end_time": "2023-02-15T01:41:18.620808",
     "exception": false,
     "start_time": "2023-02-15T01:41:18.603887",
     "status": "completed"
    },
    "tags": []
   },
   "source": [
    "<a id='2'></a>\n",
    "# 2 | Data Preprocessing\n",
    "\n",
    "<a id='2.1'></a>\n",
    "### Label Encode Ratings\n",
    "\n",
    "We need to label encode the ratings since all ratings fall in the range between 1 and 5 inclusively. To achieve this we simply shift the ratings by subtracting 1 from each rating (e.g. 5 -> 4). We do this in order to simplify the one-hot encoding process at a later stage."
   ]
  },
  {
   "cell_type": "code",
   "execution_count": 16,
   "id": "2ba0e66a",
   "metadata": {
    "execution": {
     "iopub.execute_input": "2023-02-15T01:41:18.656500Z",
     "iopub.status.busy": "2023-02-15T01:41:18.656091Z",
     "iopub.status.idle": "2023-02-15T01:41:18.661367Z",
     "shell.execute_reply": "2023-02-15T01:41:18.660681Z"
    },
    "papermill": {
     "duration": 0.025225,
     "end_time": "2023-02-15T01:41:18.663085",
     "exception": false,
     "start_time": "2023-02-15T01:41:18.637860",
     "status": "completed"
    },
    "tags": []
   },
   "outputs": [],
   "source": [
    "# Label encode ratings\n",
    "train_df[\"rating_encoded\"] = train_df['Rating'] - 1"
   ]
  },
  {
   "cell_type": "markdown",
   "id": "95c6a567",
   "metadata": {
    "papermill": {
     "duration": 0.017135,
     "end_time": "2023-02-15T01:41:18.698426",
     "exception": false,
     "start_time": "2023-02-15T01:41:18.681291",
     "status": "completed"
    },
    "tags": []
   },
   "source": [
    "<a id='2.2'></a>\n",
    "### Create Train/Validation Split"
   ]
  },
  {
   "cell_type": "code",
   "execution_count": 17,
   "id": "9c4b4f54",
   "metadata": {
    "execution": {
     "iopub.execute_input": "2023-02-15T01:41:18.734673Z",
     "iopub.status.busy": "2023-02-15T01:41:18.734231Z",
     "iopub.status.idle": "2023-02-15T01:41:18.759868Z",
     "shell.execute_reply": "2023-02-15T01:41:18.758453Z"
    },
    "papermill": {
     "duration": 0.046545,
     "end_time": "2023-02-15T01:41:18.762264",
     "exception": false,
     "start_time": "2023-02-15T01:41:18.715719",
     "status": "completed"
    },
    "tags": []
   },
   "outputs": [],
   "source": [
    "# Get indices for train and validation splits\n",
    "train_idx, val_idx, _, _ = train_test_split(\n",
    "    train_df.index, train_df.Rating, \n",
    "    test_size=0.2, stratify=train_df.Rating,\n",
    "    random_state=CFG.SEED\n",
    ")"
   ]
  },
  {
   "cell_type": "code",
   "execution_count": 18,
   "id": "c522df8a",
   "metadata": {
    "execution": {
     "iopub.execute_input": "2023-02-15T01:41:18.798491Z",
     "iopub.status.busy": "2023-02-15T01:41:18.798115Z",
     "iopub.status.idle": "2023-02-15T01:41:18.819367Z",
     "shell.execute_reply": "2023-02-15T01:41:18.818131Z"
    },
    "papermill": {
     "duration": 0.041955,
     "end_time": "2023-02-15T01:41:18.821417",
     "exception": false,
     "start_time": "2023-02-15T01:41:18.779462",
     "status": "completed"
    },
    "tags": []
   },
   "outputs": [
    {
     "data": {
      "text/plain": [
       "((48000, 6), (12000, 6))"
      ]
     },
     "execution_count": 18,
     "metadata": {},
     "output_type": "execute_result"
    }
   ],
   "source": [
    "# Get new training and validation data\n",
    "train_new_df = train_df.iloc[train_idx].reset_index(drop=True)\n",
    "val_df = train_df.iloc[val_idx].reset_index(drop=True)\n",
    "\n",
    "# View shapes\n",
    "train_new_df.shape, val_df.shape"
   ]
  },
  {
   "cell_type": "code",
   "execution_count": 19,
   "id": "db25263b",
   "metadata": {
    "execution": {
     "iopub.execute_input": "2023-02-15T01:41:18.856101Z",
     "iopub.status.busy": "2023-02-15T01:41:18.855773Z",
     "iopub.status.idle": "2023-02-15T01:41:18.870847Z",
     "shell.execute_reply": "2023-02-15T01:41:18.870134Z"
    },
    "papermill": {
     "duration": 0.034576,
     "end_time": "2023-02-15T01:41:18.872748",
     "exception": false,
     "start_time": "2023-02-15T01:41:18.838172",
     "status": "completed"
    },
    "tags": []
   },
   "outputs": [
    {
     "data": {
      "text/html": [
       "<div>\n",
       "<style scoped>\n",
       "    .dataframe tbody tr th:only-of-type {\n",
       "        vertical-align: middle;\n",
       "    }\n",
       "\n",
       "    .dataframe tbody tr th {\n",
       "        vertical-align: top;\n",
       "    }\n",
       "\n",
       "    .dataframe thead th {\n",
       "        text-align: right;\n",
       "    }\n",
       "</style>\n",
       "<table border=\"1\" class=\"dataframe\">\n",
       "  <thead>\n",
       "    <tr style=\"text-align: right;\">\n",
       "      <th></th>\n",
       "      <th>Id</th>\n",
       "      <th>Review</th>\n",
       "      <th>Rating</th>\n",
       "      <th>review_length</th>\n",
       "      <th>token_count</th>\n",
       "      <th>rating_encoded</th>\n",
       "    </tr>\n",
       "  </thead>\n",
       "  <tbody>\n",
       "    <tr>\n",
       "      <th>0</th>\n",
       "      <td>7372</td>\n",
       "      <td>Straight forward purchase from trusted supplie...</td>\n",
       "      <td>5</td>\n",
       "      <td>80</td>\n",
       "      <td>12</td>\n",
       "      <td>4</td>\n",
       "    </tr>\n",
       "    <tr>\n",
       "      <th>1</th>\n",
       "      <td>36260</td>\n",
       "      <td>Website is super smooth and easy to navigate w...</td>\n",
       "      <td>5</td>\n",
       "      <td>118</td>\n",
       "      <td>21</td>\n",
       "      <td>4</td>\n",
       "    </tr>\n",
       "    <tr>\n",
       "      <th>2</th>\n",
       "      <td>33497</td>\n",
       "      <td>Apparently it was posted twice, maybe it will ...</td>\n",
       "      <td>1</td>\n",
       "      <td>150</td>\n",
       "      <td>26</td>\n",
       "      <td>0</td>\n",
       "    </tr>\n",
       "    <tr>\n",
       "      <th>3</th>\n",
       "      <td>36775</td>\n",
       "      <td>Order received the day after order. Memory upg...</td>\n",
       "      <td>5</td>\n",
       "      <td>94</td>\n",
       "      <td>15</td>\n",
       "      <td>4</td>\n",
       "    </tr>\n",
       "    <tr>\n",
       "      <th>4</th>\n",
       "      <td>49630</td>\n",
       "      <td>Its great, in a contract with them for 30GB fo...</td>\n",
       "      <td>5</td>\n",
       "      <td>162</td>\n",
       "      <td>27</td>\n",
       "      <td>4</td>\n",
       "    </tr>\n",
       "    <tr>\n",
       "      <th>...</th>\n",
       "      <td>...</td>\n",
       "      <td>...</td>\n",
       "      <td>...</td>\n",
       "      <td>...</td>\n",
       "      <td>...</td>\n",
       "      <td>...</td>\n",
       "    </tr>\n",
       "    <tr>\n",
       "      <th>47995</th>\n",
       "      <td>40748</td>\n",
       "      <td>I have made 2 purchases with PCSPECIALIST in t...</td>\n",
       "      <td>5</td>\n",
       "      <td>91</td>\n",
       "      <td>17</td>\n",
       "      <td>4</td>\n",
       "    </tr>\n",
       "    <tr>\n",
       "      <th>47996</th>\n",
       "      <td>33270</td>\n",
       "      <td>Matress is amazing- thank you\\nYet again deliv...</td>\n",
       "      <td>2</td>\n",
       "      <td>402</td>\n",
       "      <td>78</td>\n",
       "      <td>1</td>\n",
       "    </tr>\n",
       "    <tr>\n",
       "      <th>47997</th>\n",
       "      <td>16802</td>\n",
       "      <td>Gtech have a great product I always buy from t...</td>\n",
       "      <td>5</td>\n",
       "      <td>134</td>\n",
       "      <td>25</td>\n",
       "      <td>4</td>\n",
       "    </tr>\n",
       "    <tr>\n",
       "      <th>47998</th>\n",
       "      <td>37531</td>\n",
       "      <td>Quick delivery, competitive price</td>\n",
       "      <td>5</td>\n",
       "      <td>33</td>\n",
       "      <td>4</td>\n",
       "      <td>4</td>\n",
       "    </tr>\n",
       "    <tr>\n",
       "      <th>47999</th>\n",
       "      <td>13469</td>\n",
       "      <td>Signed up to get broadband installed originall...</td>\n",
       "      <td>1</td>\n",
       "      <td>697</td>\n",
       "      <td>133</td>\n",
       "      <td>0</td>\n",
       "    </tr>\n",
       "  </tbody>\n",
       "</table>\n",
       "<p>48000 rows × 6 columns</p>\n",
       "</div>"
      ],
      "text/plain": [
       "          Id                                             Review  Rating  \\\n",
       "0       7372  Straight forward purchase from trusted supplie...       5   \n",
       "1      36260  Website is super smooth and easy to navigate w...       5   \n",
       "2      33497  Apparently it was posted twice, maybe it will ...       1   \n",
       "3      36775  Order received the day after order. Memory upg...       5   \n",
       "4      49630  Its great, in a contract with them for 30GB fo...       5   \n",
       "...      ...                                                ...     ...   \n",
       "47995  40748  I have made 2 purchases with PCSPECIALIST in t...       5   \n",
       "47996  33270  Matress is amazing- thank you\\nYet again deliv...       2   \n",
       "47997  16802  Gtech have a great product I always buy from t...       5   \n",
       "47998  37531                  Quick delivery, competitive price       5   \n",
       "47999  13469  Signed up to get broadband installed originall...       1   \n",
       "\n",
       "       review_length  token_count  rating_encoded  \n",
       "0                 80           12               4  \n",
       "1                118           21               4  \n",
       "2                150           26               0  \n",
       "3                 94           15               4  \n",
       "4                162           27               4  \n",
       "...              ...          ...             ...  \n",
       "47995             91           17               4  \n",
       "47996            402           78               1  \n",
       "47997            134           25               4  \n",
       "47998             33            4               4  \n",
       "47999            697          133               0  \n",
       "\n",
       "[48000 rows x 6 columns]"
      ]
     },
     "execution_count": 19,
     "metadata": {},
     "output_type": "execute_result"
    }
   ],
   "source": [
    "# View new train dataframe\n",
    "train_new_df"
   ]
  },
  {
   "cell_type": "markdown",
   "id": "f57e201f",
   "metadata": {
    "papermill": {
     "duration": 0.017215,
     "end_time": "2023-02-15T01:41:18.907335",
     "exception": false,
     "start_time": "2023-02-15T01:41:18.890120",
     "status": "completed"
    },
    "tags": []
   },
   "source": [
    "<a id='2.3'></a>\n",
    "### View Train & Validation Rating Distributions"
   ]
  },
  {
   "cell_type": "code",
   "execution_count": 20,
   "id": "94c7adb7",
   "metadata": {
    "execution": {
     "iopub.execute_input": "2023-02-15T01:41:18.944075Z",
     "iopub.status.busy": "2023-02-15T01:41:18.943674Z",
     "iopub.status.idle": "2023-02-15T01:41:19.237998Z",
     "shell.execute_reply": "2023-02-15T01:41:19.236177Z"
    },
    "papermill": {
     "duration": 0.315656,
     "end_time": "2023-02-15T01:41:19.240541",
     "exception": false,
     "start_time": "2023-02-15T01:41:18.924885",
     "status": "completed"
    },
    "tags": []
   },
   "outputs": [
    {
     "data": {
      "image/png": "[encoded data removed]",
      "text/plain": [
       "<Figure size 1008x720 with 2 Axes>"
      ]
     },
     "metadata": {
      "needs_background": "light"
     },
     "output_type": "display_data"
    }
   ],
   "source": [
    "fig, (ax1, ax2) = plt.subplots(2, figsize=(14, 10))\n",
    "\n",
    "# Set the spacing between subplots\n",
    "fig.tight_layout(pad=6.0)\n",
    "\n",
    "# Plot New Train Ratings Distribution\n",
    "ax1.set_title('New Train Ratings Distribution', fontsize=20)\n",
    "train_new_distribution = train_new_df['Rating'].value_counts().sort_values()\n",
    "sns.barplot(x=train_new_distribution.values,\n",
    "            y=list(train_new_distribution.keys()),\n",
    "            orient=\"h\",\n",
    "            ax=ax1)\n",
    "\n",
    "# Plot Validation Ratings Distribution\n",
    "ax2.set_title('Validation Ratings Distribution', fontsize=20)\n",
    "val_distribution = val_df['Rating'].value_counts().sort_values()\n",
    "sns.barplot(x=val_distribution.values,\n",
    "            y=list(val_distribution.keys()),\n",
    "            orient=\"h\",\n",
    "            ax=ax2);"
   ]
  },
  {
   "cell_type": "markdown",
   "id": "0dcfebd1",
   "metadata": {
    "papermill": {
     "duration": 0.017389,
     "end_time": "2023-02-15T01:41:19.275899",
     "exception": false,
     "start_time": "2023-02-15T01:41:19.258510",
     "status": "completed"
    },
    "tags": []
   },
   "source": [
    "<a id='3'></a>\n",
    "# 3 | Build Input Data Pipeline with tf.data API\n",
    "\n",
    "In this notebook we'll use the tf.data API to build input data pipelines for training a model and conducting model inference. In order to achieve this, we'll preprocess the reviews by removing any artifacts in the texts such as emojis, non-ascii characters and replacing numbers with another character. The preprocessed texts will be used to construct the pipelines along with the one-hot encoded ratings.\n",
    "\n",
    "<center>\n",
    "    <figure>\n",
    "        <img src=\"https://i.postimg.cc/GpPNLLNH/1-3-Zi3-VUAYh5w78-KGLo-O37g.webp\" alt =\"UCF101\" style='width: 800px;'>\n",
    "        <figcaption>\n",
    "            Source: <a href=\"https://towardsdatascience.com/how-to-reduce-training-time-for-a-deep-learning-model-using-tf-data-43e1989d2961\">[Medium | How to Reduce Training Time for a Deep Learning Model using tf.data]</a>\n",
    "        </figcaption>\n",
    "    </figure>\n",
    "</center>\n",
    "\n",
    "<br>\n",
    "\n",
    "**For more information on the tf.data API and loading data from generator, follow these links:** \n",
    "> - [tf.data: Build TensorFlow input pipelines](https://www.tensorflow.org/guide/data)\n",
    "> - [Better performance with the tf.data API](https://www.tensorflow.org/guide/data_performance)\n",
    "> - [Using generators with tf.data API](https://www.tensorflow.org/api_docs/python/tf/data/Dataset#from_generator)"
   ]
  },
  {
   "cell_type": "markdown",
   "id": "9ad767be",
   "metadata": {
    "papermill": {
     "duration": 0.017269,
     "end_time": "2023-02-15T01:41:19.310764",
     "exception": false,
     "start_time": "2023-02-15T01:41:19.293495",
     "status": "completed"
    },
    "tags": []
   },
   "source": [
    "<a id='3.1'></a>\n",
    "### Define Text Preprocessor"
   ]
  },
  {
   "cell_type": "code",
   "execution_count": 21,
   "id": "5eec0ea0",
   "metadata": {
    "execution": {
     "iopub.execute_input": "2023-02-15T01:41:19.347975Z",
     "iopub.status.busy": "2023-02-15T01:41:19.347307Z",
     "iopub.status.idle": "2023-02-15T01:41:19.353716Z",
     "shell.execute_reply": "2023-02-15T01:41:19.352940Z"
    },
    "papermill": {
     "duration": 0.027845,
     "end_time": "2023-02-15T01:41:19.356036",
     "exception": false,
     "start_time": "2023-02-15T01:41:19.328191",
     "status": "completed"
    },
    "tags": []
   },
   "outputs": [],
   "source": [
    "def text_preprocessor(text):\n",
    "    \n",
    "    # -----------------------------------------------------\n",
    "    # Source: https://stackoverflow.com/questions/33404752/removing-emojis-from-a-string-in-python\n",
    "    emoji_pattern = re.compile(\"[\"\n",
    "        u\"\\U0001F600-\\U0001F64F\"  # emoticons\n",
    "        u\"\\U0001F300-\\U0001F5FF\"  # symbols & pictographs\n",
    "        u\"\\U0001F680-\\U0001F6FF\"  # transport & map symbols\n",
    "        u\"\\U0001F1E0-\\U0001F1FF\"  # flags (iOS)\n",
    "                           \"]+\", flags=re.UNICODE)\n",
    "    # -----------------------------------------------------\n",
    "    non_ascii_pattern = re.compile(r\"[^\\x00-\\x7F]+\", flags=re.UNICODE)\n",
    "    digit_pattern = re.compile('[0-9]', flags=re.UNICODE)\n",
    "    \n",
    "    # Remove emojis\n",
    "    preprocessed_text = emoji_pattern.sub(r'', text)\n",
    "    # Remoce non-ascii characters\n",
    "    preprocessed_text = non_ascii_pattern.sub(r'', preprocessed_text)\n",
    "    # Replace numbers with '@' sign\n",
    "    preprocessed_text = digit_pattern.sub(r'#', preprocessed_text)\n",
    "    \n",
    "    return preprocessed_text"
   ]
  },
  {
   "cell_type": "markdown",
   "id": "335eecbb",
   "metadata": {
    "papermill": {
     "duration": 0.017202,
     "end_time": "2023-02-15T01:41:19.390994",
     "exception": false,
     "start_time": "2023-02-15T01:41:19.373792",
     "status": "completed"
    },
    "tags": []
   },
   "source": [
    "<a id='3.2'></a>\n",
    "### Generate Input Data Pipelines"
   ]
  },
  {
   "cell_type": "code",
   "execution_count": 22,
   "id": "edfda555",
   "metadata": {
    "execution": {
     "iopub.execute_input": "2023-02-15T01:41:19.429666Z",
     "iopub.status.busy": "2023-02-15T01:41:19.428582Z",
     "iopub.status.idle": "2023-02-15T01:41:19.439649Z",
     "shell.execute_reply": "2023-02-15T01:41:19.438077Z"
    },
    "papermill": {
     "duration": 0.032564,
     "end_time": "2023-02-15T01:41:19.442144",
     "exception": false,
     "start_time": "2023-02-15T01:41:19.409580",
     "status": "completed"
    },
    "tags": []
   },
   "outputs": [],
   "source": [
    "def encode_labels(labels, label_depth=5):\n",
    "    return tf.one_hot(labels, depth=label_depth).numpy()\n",
    "\n",
    "def create_pipeline(df, preprocessor, batch_size=32, shuffle=False, cache=None, prefetch=False):\n",
    "    '''\n",
    "    Generates an input pipeline using the tf.data API given a Pandas DataFrame and image loading function.\n",
    "    \n",
    "    @params\n",
    "        - df: (pd.DataFrame) -> DataFrame containing texts and labels\n",
    "        - preprocessor (function) -> preprocessor used to preprocess texts\n",
    "        - batch_size: (int) -> size for batched (default=32) \n",
    "        - shuffle: (bool) -> condition for data shuffling, data is shuffled when True (default=False)\n",
    "        - cache: (str) -> cache path for caching data, data is not cached when None (default=None)\n",
    "        - prefetch: (bool) -> condition for prefeching data, data is prefetched when True (default=False)\n",
    "        \n",
    "    @returns\n",
    "        - dataset: (tf.data.Dataset) -> dataset input pipeline used to train a TensorFlow model\n",
    "    '''\n",
    "    # Get image paths and labels from DataFrame\n",
    "    reviews = df['Review'].apply(preprocessor).to_numpy().astype(str)\n",
    "    ratings = encode_labels(df['rating_encoded'].to_numpy().astype(np.float32))\n",
    "    AUTOTUNE = tf.data.AUTOTUNE\n",
    "    \n",
    "    # Create dataset with raw data from DataFrame\n",
    "    ds = tf.data.Dataset.from_tensor_slices((reviews, ratings))\n",
    "    \n",
    "    # Apply shuffling based on condition\n",
    "    if shuffle:\n",
    "        ds = ds.shuffle(buffer_size=1000)\n",
    "        \n",
    "    # Apply batching\n",
    "    ds = ds.batch(batch_size)\n",
    "    \n",
    "    # Apply caching based on condition\n",
    "    # Note: Use cache in memory (cache='') if the data is small enough to fit in memory!!!\n",
    "    if cache != None:\n",
    "        ds = ds.cache(cache)\n",
    "    \n",
    "    # Apply prefetching based on condition\n",
    "    # Note: This will result in memory trade-offs\n",
    "    if prefetch:\n",
    "        ds = ds.prefetch(buffer_size=AUTOTUNE)\n",
    "    \n",
    "    # Return the dataset\n",
    "    return ds"
   ]
  },
  {
   "cell_type": "code",
   "execution_count": 23,
   "id": "d3c60687",
   "metadata": {
    "execution": {
     "iopub.execute_input": "2023-02-15T01:41:19.479994Z",
     "iopub.status.busy": "2023-02-15T01:41:19.479583Z",
     "iopub.status.idle": "2023-02-15T01:41:21.428157Z",
     "shell.execute_reply": "2023-02-15T01:41:21.426931Z"
    },
    "papermill": {
     "duration": 1.970775,
     "end_time": "2023-02-15T01:41:21.431144",
     "exception": false,
     "start_time": "2023-02-15T01:41:19.460369",
     "status": "completed"
    },
    "tags": []
   },
   "outputs": [
    {
     "name": "stderr",
     "output_type": "stream",
     "text": [
      "2023-02-15 01:41:20.737236: I tensorflow/core/common_runtime/process_util.cc:146] Creating new thread pool with default inter op setting: 2. Tune using inter_op_parallelism_threads for best performance.\n"
     ]
    }
   ],
   "source": [
    "# Create train input data pipeline\n",
    "train_ds = create_pipeline(\n",
    "    train_new_df, text_preprocessor, \n",
    "    batch_size=CFG.BATCH_SIZE, \n",
    "    shuffle=False, prefetch=True\n",
    ")\n",
    "\n",
    "# Create validation input data pipeline\n",
    "val_ds = create_pipeline(\n",
    "    val_df, text_preprocessor,\n",
    "    batch_size=CFG.BATCH_SIZE, \n",
    "    shuffle=False, prefetch=False\n",
    ")"
   ]
  },
  {
   "cell_type": "code",
   "execution_count": 24,
   "id": "7b32b55d",
   "metadata": {
    "execution": {
     "iopub.execute_input": "2023-02-15T01:41:21.470591Z",
     "iopub.status.busy": "2023-02-15T01:41:21.470093Z",
     "iopub.status.idle": "2023-02-15T01:41:21.478964Z",
     "shell.execute_reply": "2023-02-15T01:41:21.477283Z"
    },
    "papermill": {
     "duration": 0.031457,
     "end_time": "2023-02-15T01:41:21.481307",
     "exception": false,
     "start_time": "2023-02-15T01:41:21.449850",
     "status": "completed"
    },
    "tags": []
   },
   "outputs": [
    {
     "name": "stdout",
     "output_type": "stream",
     "text": [
      "========================================\n",
      "Train Input Data Pipeline:\n",
      "\n",
      " <PrefetchDataset shapes: ((None,), (None, 5)), types: (tf.string, tf.float32)>\n",
      "========================================\n",
      "Validation Input Data Pipeline:\n",
      "\n",
      " <BatchDataset shapes: ((None,), (None, 5)), types: (tf.string, tf.float32)>\n",
      "========================================\n"
     ]
    }
   ],
   "source": [
    "# View string representation of datasets\n",
    "print('========================================')\n",
    "print('Train Input Data Pipeline:\\n\\n', train_ds)\n",
    "print('========================================')\n",
    "print('Validation Input Data Pipeline:\\n\\n', val_ds)\n",
    "print('========================================')"
   ]
  },
  {
   "cell_type": "markdown",
   "id": "8afac975",
   "metadata": {
    "papermill": {
     "duration": 0.019158,
     "end_time": "2023-02-15T01:41:21.519131",
     "exception": false,
     "start_time": "2023-02-15T01:41:21.499973",
     "status": "completed"
    },
    "tags": []
   },
   "source": [
    "<a id='4'></a>\n",
    "# 4 | Baseline Model: Universal Sentence Encoder Model\n",
    "\n",
    "The Universal Sentence Encoder encodes text into high dimensional vectors that can be used for text classification, semantic similarity, clustering, and other natural language tasks. For this baseline model we'll make use of Universal Sentence Encoder (USE) to generate embeddings which are representative of the review texts.\n",
    "\n",
    "<center>\n",
    "    <figure>\n",
    "        <img src=\"https://amitness.com/images/use-overall-pipeline.png\" alt =\"UCF101\" style='width: 600px;'>\n",
    "        <figcaption>\n",
    "            Source: <a href=\"https://amitness.com/2020/06/universal-sentence-encoder/\">[Amit Chaudhary | Universal Sentence Encoder Visually Explained]</a>\n",
    "        </figcaption>\n",
    "    </figure>\n",
    "</center>\n",
    "\n",
    "**Reasons for using Universal Sentence Encoder:**\n",
    "1. Minimal hardware requirements for generating embeddings with USE\n",
    "2. Low inference rate\n",
    "3. Light-weight memory consumptions\n",
    "\n",
    "**Drawbacks of using Universal Sentence Encoder:**\n",
    "1. Embedding representations become less accurate as text lengths increases.\n",
    "2. Although USE has a low inference rate, its accuracy falls short when compared to language models such as BERT & DeBERTa-v3\n",
    "\n",
    "<br>\n",
    "\n",
    "**For more information regarding the Universal Sentence Encoder, follow these links:** \n",
    "> - [An Introduction to Transfer Learning](https://georgian.io/an-introduction-to-transfer-learning/)\n",
    "> - [A Comprehensive Hands-on Guide to Transfer Learning with Real-World Applications in Deep Learning](https://towardsdatascience.com/a-comprehensive-hands-on-guide-to-transfer-learning-with-real-world-applications-in-deep-learning-212bf3b2f27a)\n",
    "> - <a href=\"https://amitness.com/2020/06/universal-sentence-encoder/\">Amit Chaudhary | Universal Sentence Encoder Visually Explained</a>\n",
    "\n",
    "<hr>\n",
    "\n",
    "<a id=\"tfhub\"></a>\n",
    "## TensorFlow Hub\n",
    "\n",
    "TensorFlow Hub is a repository of trained machine learning models ready for fine-tuning and deployable anywhere. TensorFlow Hub enables us to reuse trained models like BERT and Faster R-CNN with just a few lines of code. In this section we'll get the USE model from TensorFlow Hub. \n",
    "\n",
    "**For more information on TensorFlow Hub or if you would like to access the other models in PyTorch/JAX, check out the following links:**\n",
    "> - [TensorFlow Hub](https://www.tensorflow.org/hub)\n",
    "> - [HuggingFace🤗](https://huggingface.co/)"
   ]
  },
  {
   "cell_type": "code",
   "execution_count": 25,
   "id": "667c9b00",
   "metadata": {
    "execution": {
     "iopub.execute_input": "2023-02-15T01:41:21.555920Z",
     "iopub.status.busy": "2023-02-15T01:41:21.555540Z",
     "iopub.status.idle": "2023-02-15T01:41:21.561183Z",
     "shell.execute_reply": "2023-02-15T01:41:21.559997Z"
    },
    "papermill": {
     "duration": 0.026499,
     "end_time": "2023-02-15T01:41:21.563289",
     "exception": false,
     "start_time": "2023-02-15T01:41:21.536790",
     "status": "completed"
    },
    "tags": []
   },
   "outputs": [],
   "source": [
    "# Here's a function to get any model/preprocessor from tensorflow hub\n",
    "def get_tfhub_model(model_link, model_name, model_trainable=False):\n",
    "    return hub.KerasLayer(model_link,\n",
    "                          trainable=model_trainable,\n",
    "                          name=model_name)"
   ]
  },
  {
   "cell_type": "markdown",
   "id": "780db93e",
   "metadata": {
    "papermill": {
     "duration": 0.017178,
     "end_time": "2023-02-15T01:41:21.598476",
     "exception": false,
     "start_time": "2023-02-15T01:41:21.581298",
     "status": "completed"
    },
    "tags": []
   },
   "source": [
    "<a id='4.1'></a>\n",
    "### Get Universal Sentence Encoder"
   ]
  },
  {
   "cell_type": "code",
   "execution_count": 26,
   "id": "025f7c07",
   "metadata": {
    "execution": {
     "iopub.execute_input": "2023-02-15T01:41:21.636013Z",
     "iopub.status.busy": "2023-02-15T01:41:21.635646Z",
     "iopub.status.idle": "2023-02-15T01:41:49.294968Z",
     "shell.execute_reply": "2023-02-15T01:41:49.293899Z"
    },
    "papermill": {
     "duration": 27.68122,
     "end_time": "2023-02-15T01:41:49.297325",
     "exception": false,
     "start_time": "2023-02-15T01:41:21.616105",
     "status": "completed"
    },
    "tags": []
   },
   "outputs": [
    {
     "name": "stderr",
     "output_type": "stream",
     "text": [
      "2023-02-15 01:41:47.524059: I tensorflow/compiler/mlir/mlir_graph_optimization_pass.cc:185] None of the MLIR Optimization Passes are enabled (registered 2)\n"
     ]
    }
   ],
   "source": [
    "# Get Universal Sentence Encoder here\n",
    "encoder_link = 'https://tfhub.dev/google/universal-sentence-encoder/4'\n",
    "encoder_name = 'universal_sentence_encoder'\n",
    "encoder_trainable=False # set trainable to False for inference-only \n",
    "\n",
    "encoder = get_tfhub_model(encoder_link, encoder_name, model_trainable=encoder_trainable)"
   ]
  },
  {
   "cell_type": "markdown",
   "id": "7175f280",
   "metadata": {
    "papermill": {
     "duration": 0.016793,
     "end_time": "2023-02-15T01:41:49.331306",
     "exception": false,
     "start_time": "2023-02-15T01:41:49.314513",
     "status": "completed"
    },
    "tags": []
   },
   "source": [
    "<a id='4.2'></a>\n",
    "### Build Model"
   ]
  },
  {
   "cell_type": "code",
   "execution_count": 27,
   "id": "cb58f647",
   "metadata": {
    "execution": {
     "iopub.execute_input": "2023-02-15T01:41:49.367689Z",
     "iopub.status.busy": "2023-02-15T01:41:49.367248Z",
     "iopub.status.idle": "2023-02-15T01:41:49.376898Z",
     "shell.execute_reply": "2023-02-15T01:41:49.375469Z"
    },
    "papermill": {
     "duration": 0.03084,
     "end_time": "2023-02-15T01:41:49.379353",
     "exception": false,
     "start_time": "2023-02-15T01:41:49.348513",
     "status": "completed"
    },
    "tags": []
   },
   "outputs": [],
   "source": [
    "def build_baseline_model(num_classes=5):\n",
    "    # Define kernel initializer & input layer\n",
    "    initializer = tf.keras.initializers.HeNormal()\n",
    "    review_input = layers.Input(shape=[], dtype=tf.string, name='review_text_input')\n",
    "    \n",
    "    # Generate Embeddings\n",
    "    review_embedding = encoder(review_input)\n",
    "    \n",
    "    # Feed Embeddings to a Bidirectional LSTM\n",
    "    expand_layer = layers.Lambda(lambda embed: tf.expand_dims(embed, axis=1))(review_embedding)\n",
    "    bi_lstm = layers.Bidirectional(layers.LSTM(128, kernel_initializer=initializer), \n",
    "                                   name='bidirection_lstm')(expand_layer)\n",
    "    \n",
    "    # Feed LSTM output to classification head\n",
    "    dropout_layer = layers.Dropout(0.25)(bi_lstm)\n",
    "    dense_layer = layers.Dense(64, activation='relu', kernel_initializer=initializer)(dropout_layer)\n",
    "    output_layer = layers.Dense(num_classes, activation='softmax', \n",
    "                                kernel_initializer=initializer, \n",
    "                                name='output_layer')(dense_layer)\n",
    "    \n",
    "    return tf.keras.Model(inputs=[review_input], \n",
    "                          outputs=[output_layer], \n",
    "                          name='use_model')"
   ]
  },
  {
   "cell_type": "code",
   "execution_count": 28,
   "id": "6456cfcf",
   "metadata": {
    "execution": {
     "iopub.execute_input": "2023-02-15T01:41:49.417905Z",
     "iopub.status.busy": "2023-02-15T01:41:49.417461Z",
     "iopub.status.idle": "2023-02-15T01:41:50.678205Z",
     "shell.execute_reply": "2023-02-15T01:41:50.676775Z"
    },
    "papermill": {
     "duration": 1.282461,
     "end_time": "2023-02-15T01:41:50.680263",
     "exception": false,
     "start_time": "2023-02-15T01:41:49.397802",
     "status": "completed"
    },
    "tags": []
   },
   "outputs": [
    {
     "name": "stdout",
     "output_type": "stream",
     "text": [
      "Model: \"use_model\"\n",
      "_________________________________________________________________\n",
      "Layer (type)                 Output Shape              Param #   \n",
      "=================================================================\n",
      "review_text_input (InputLaye [(None,)]                 0         \n",
      "_________________________________________________________________\n",
      "universal_sentence_encoder ( (None, 512)               256797824 \n",
      "_________________________________________________________________\n",
      "lambda (Lambda)              (None, 1, 512)            0         \n",
      "_________________________________________________________________\n",
      "bidirection_lstm (Bidirectio (None, 256)               656384    \n",
      "_________________________________________________________________\n",
      "dropout (Dropout)            (None, 256)               0         \n",
      "_________________________________________________________________\n",
      "dense (Dense)                (None, 64)                16448     \n",
      "_________________________________________________________________\n",
      "output_layer (Dense)         (None, 5)                 325       \n",
      "=================================================================\n",
      "Total params: 257,470,981\n",
      "Trainable params: 673,157\n",
      "Non-trainable params: 256,797,824\n",
      "_________________________________________________________________\n"
     ]
    }
   ],
   "source": [
    "# Build model\n",
    "model = build_baseline_model()\n",
    "\n",
    "# View summary of model\n",
    "model.summary()"
   ]
  },
  {
   "cell_type": "code",
   "execution_count": 29,
   "id": "caa41771",
   "metadata": {
    "execution": {
     "iopub.execute_input": "2023-02-15T01:41:50.719470Z",
     "iopub.status.busy": "2023-02-15T01:41:50.719085Z",
     "iopub.status.idle": "2023-02-15T01:41:52.223228Z",
     "shell.execute_reply": "2023-02-15T01:41:52.221891Z"
    },
    "papermill": {
     "duration": 1.526628,
     "end_time": "2023-02-15T01:41:52.225742",
     "exception": false,
     "start_time": "2023-02-15T01:41:50.699114",
     "status": "completed"
    },
    "tags": []
   },
   "outputs": [
    {
     "data": {
      "image/png": "[encoded data removed]",
      "text/plain": [
       "<IPython.core.display.Image object>"
      ]
     },
     "execution_count": 29,
     "metadata": {},
     "output_type": "execute_result"
    }
   ],
   "source": [
    "# Explore model visually\n",
    "plot_model(\n",
    "    model, dpi=60,\n",
    "    show_shapes=True,\n",
    "    expand_nested=True\n",
    ")"
   ]
  },
  {
   "cell_type": "markdown",
   "id": "b88bd21f",
   "metadata": {
    "papermill": {
     "duration": 0.017944,
     "end_time": "2023-02-15T01:41:52.262496",
     "exception": false,
     "start_time": "2023-02-15T01:41:52.244552",
     "status": "completed"
    },
    "tags": []
   },
   "source": [
    "<a id='5'></a>\n",
    "# 5 | Train Baseline Model\n",
    "\n",
    "To train this model we'll use Categorical Crossentropy as the loss function since this notebook approaches the problem at hand as a classification problem for multiple labels. As for the optimizer, we'll use the Adam optimizer with 0.001 as the (default) learning rate. \n",
    "\n",
    "To prevent the occurance of overfitting during training we'll have to make use of TensorFlow's Callback API to implement the EarlyStopping & ReduceLROnPlateau callbacks. The only metrics we'll track during the training of the model will be the loss and accuracy metrics.\n",
    "\n",
    "**See the following for more information:**\n",
    "- **Binary Crossentropy Loss Function:**\n",
    "    - [Understanding Categorical Cross-Entropy Loss, Binary Cross-Entropy Loss, Softmax Loss, Logistic Loss, Focal Loss and all those confusing names](https://gombru.github.io/2018/05/23/cross_entropy_loss/)\n",
    "    - [TensorFlow Categorical Crossentropy Loss Implementation](https://www.tensorflow.org/api_docs/python/tf/keras/losses/CategoricalCrossentropy)\n",
    "- **Adam Optimizer:**\n",
    "    - [Academic Paper | Adam: A Method for Stochastic Optimization](https://arxiv.org/abs/1412.6980)\n",
    "    - [TensorFlow Adam Implementation](https://www.tensorflow.org/api_docs/python/tf/keras/optimizers/Adam)\n",
    "- **TensorFlow Callback API:**\n",
    "    - [EarlyStopping Implementation](https://www.tensorflow.org/api_docs/python/tf/keras/callbacks/EarlyStopping)\n",
    "    - [ReduceLROnPlateau Implementation](https://www.tensorflow.org/api_docs/python/tf/keras/callbacks/ReduceLROnPlateau)\n",
    "- **TensorFlow Metrics:**\n",
    "    - [TensorFlow Metrics Overview](https://www.tensorflow.org/api_docs/python/tf/keras/metrics)"
   ]
  },
  {
   "cell_type": "code",
   "execution_count": 30,
   "id": "989e6036",
   "metadata": {
    "execution": {
     "iopub.execute_input": "2023-02-15T01:41:52.301718Z",
     "iopub.status.busy": "2023-02-15T01:41:52.301281Z",
     "iopub.status.idle": "2023-02-15T01:41:52.309299Z",
     "shell.execute_reply": "2023-02-15T01:41:52.307885Z"
    },
    "papermill": {
     "duration": 0.029899,
     "end_time": "2023-02-15T01:41:52.311009",
     "exception": false,
     "start_time": "2023-02-15T01:41:52.281110",
     "status": "completed"
    },
    "tags": []
   },
   "outputs": [],
   "source": [
    "def train_model(model, num_epochs, callbacks_list, tf_train_data, \n",
    "                tf_valid_data=None, shuffling=False):\n",
    "    '''\n",
    "        Trains a TensorFlow model and returns a dict object containing the model metrics history data. \n",
    "        \n",
    "        @params\n",
    "        - model: (tf.keras.model) -> model to be trained \n",
    "        - num_epochs: (int) -> number of epochs to train the model\n",
    "        - callbacks_list: (list) -> list containing callback fuctions for model\n",
    "        - tf_train_data: (tf.data.Dataset) -> dataset for model to be train on \n",
    "        - tf_valid_data: (tf.data.Dataset) -> dataset for model to be validated on (default=None)\n",
    "        - shuffling: (bool) -> condition for data shuffling, data is shuffled when True (default=False)\n",
    "        \n",
    "        @returns\n",
    "        - model_history: (dict) -> dictionary containing loss and metrics values tracked during training\n",
    "    '''\n",
    "    \n",
    "    model_history = {}\n",
    "    \n",
    "    if tf_valid_data != None:\n",
    "        model_history = model.fit(tf_train_data,\n",
    "                                  epochs=num_epochs,\n",
    "                                  validation_data=tf_valid_data,\n",
    "                                  validation_steps=int(len(tf_valid_data)),\n",
    "                                  callbacks=callbacks_list,\n",
    "                                  shuffle=shuffling)\n",
    "        \n",
    "    if tf_valid_data == None:\n",
    "        model_history = model.fit(tf_train_data,\n",
    "                                  epochs=num_epochs,\n",
    "                                  callbacks=callbacks_list,\n",
    "                                  shuffle=shuffling)\n",
    "    return model_history"
   ]
  },
  {
   "cell_type": "markdown",
   "id": "405b55ac",
   "metadata": {
    "papermill": {
     "duration": 0.018096,
     "end_time": "2023-02-15T01:41:52.347928",
     "exception": false,
     "start_time": "2023-02-15T01:41:52.329832",
     "status": "completed"
    },
    "tags": []
   },
   "source": [
    "<a id=5.1></a>\n",
    "### Define Callbacks and Metrics for Model Training"
   ]
  },
  {
   "cell_type": "code",
   "execution_count": 31,
   "id": "d0951cdc",
   "metadata": {
    "execution": {
     "iopub.execute_input": "2023-02-15T01:41:52.386865Z",
     "iopub.status.busy": "2023-02-15T01:41:52.386464Z",
     "iopub.status.idle": "2023-02-15T01:41:52.393204Z",
     "shell.execute_reply": "2023-02-15T01:41:52.391781Z"
    },
    "papermill": {
     "duration": 0.028596,
     "end_time": "2023-02-15T01:41:52.395208",
     "exception": false,
     "start_time": "2023-02-15T01:41:52.366612",
     "status": "completed"
    },
    "tags": []
   },
   "outputs": [],
   "source": [
    "early_stopping_callback = tf.keras.callbacks.EarlyStopping(\n",
    "    monitor='val_loss', \n",
    "    patience=4, \n",
    "    restore_best_weights=True)\n",
    "\n",
    "reduce_lr_callback = tf.keras.callbacks.ReduceLROnPlateau(\n",
    "    monitor='val_loss',\n",
    "    patience=2,\n",
    "    factor=0.1,\n",
    "    verbose=1)\n",
    "\n",
    "CALLBACKS = [early_stopping_callback, reduce_lr_callback]\n",
    "METRICS = ['accuracy']"
   ]
  },
  {
   "cell_type": "markdown",
   "id": "174bb0e2",
   "metadata": {
    "papermill": {
     "duration": 0.019335,
     "end_time": "2023-02-15T01:41:52.433117",
     "exception": false,
     "start_time": "2023-02-15T01:41:52.413782",
     "status": "completed"
    },
    "tags": []
   },
   "source": [
    "<a id=5.2></a>\n",
    "### Compile & Train Model"
   ]
  },
  {
   "cell_type": "code",
   "execution_count": 32,
   "id": "1f90c1ad",
   "metadata": {
    "execution": {
     "iopub.execute_input": "2023-02-15T01:41:52.473322Z",
     "iopub.status.busy": "2023-02-15T01:41:52.472760Z",
     "iopub.status.idle": "2023-02-15T01:49:51.904298Z",
     "shell.execute_reply": "2023-02-15T01:49:51.902976Z"
    },
    "papermill": {
     "duration": 479.455482,
     "end_time": "2023-02-15T01:49:51.907067",
     "exception": false,
     "start_time": "2023-02-15T01:41:52.451585",
     "status": "completed"
    },
    "tags": []
   },
   "outputs": [
    {
     "name": "stdout",
     "output_type": "stream",
     "text": [
      "Training use_model.\n",
      "Train on 48000 samples, validate on 12000 samples.\n",
      "----------------------------------\n",
      "Epoch 1/10\n",
      "1500/1500 [==============================] - 49s 30ms/step - loss: 0.7271 - accuracy: 0.8555 - val_loss: 0.6931 - val_accuracy: 0.8661\n",
      "Epoch 2/10\n",
      "1500/1500 [==============================] - 44s 29ms/step - loss: 0.6915 - accuracy: 0.8663 - val_loss: 0.6879 - val_accuracy: 0.8677\n",
      "Epoch 3/10\n",
      "1500/1500 [==============================] - 43s 29ms/step - loss: 0.6834 - accuracy: 0.8689 - val_loss: 0.6859 - val_accuracy: 0.8688\n",
      "Epoch 4/10\n",
      "1500/1500 [==============================] - 43s 29ms/step - loss: 0.6767 - accuracy: 0.8708 - val_loss: 0.6840 - val_accuracy: 0.8696\n",
      "Epoch 5/10\n",
      "1500/1500 [==============================] - 43s 28ms/step - loss: 0.6698 - accuracy: 0.8732 - val_loss: 0.6834 - val_accuracy: 0.8701\n",
      "Epoch 6/10\n",
      "1500/1500 [==============================] - 42s 28ms/step - loss: 0.6635 - accuracy: 0.8759 - val_loss: 0.6826 - val_accuracy: 0.8687\n",
      "Epoch 7/10\n",
      "1500/1500 [==============================] - 43s 28ms/step - loss: 0.6566 - accuracy: 0.8785 - val_loss: 0.6828 - val_accuracy: 0.8692\n",
      "Epoch 8/10\n",
      "1500/1500 [==============================] - 43s 28ms/step - loss: 0.6490 - accuracy: 0.8814 - val_loss: 0.6837 - val_accuracy: 0.8692\n",
      "\n",
      "Epoch 00008: ReduceLROnPlateau reducing learning rate to 0.00010000000474974513.\n",
      "Epoch 9/10\n",
      "1500/1500 [==============================] - 44s 29ms/step - loss: 0.6340 - accuracy: 0.8876 - val_loss: 0.6813 - val_accuracy: 0.8695\n",
      "Epoch 10/10\n",
      "1500/1500 [==============================] - 44s 29ms/step - loss: 0.6312 - accuracy: 0.8880 - val_loss: 0.6817 - val_accuracy: 0.8693\n"
     ]
    }
   ],
   "source": [
    "tf.random.set_seed(CFG.SEED)\n",
    "\n",
    "model.compile(\n",
    "    loss=tf.keras.losses.CategoricalCrossentropy(label_smoothing=0.1),\n",
    "    optimizer=tf.keras.optimizers.Adam(learning_rate=0.001),\n",
    "    metrics=METRICS\n",
    ")\n",
    "\n",
    "print(f'Training {model.name}.')\n",
    "print(f'Train on {len(train_new_df)} samples, validate on {len(val_df)} samples.')\n",
    "print('----------------------------------')\n",
    "\n",
    "model_history = train_model(\n",
    "    model, CFG.EPOCHS, CALLBACKS, \n",
    "    train_ds, val_ds,\n",
    "    shuffling=False\n",
    ")"
   ]
  },
  {
   "cell_type": "code",
   "execution_count": 33,
   "id": "e7bf1d36",
   "metadata": {
    "execution": {
     "iopub.execute_input": "2023-02-15T01:49:52.582665Z",
     "iopub.status.busy": "2023-02-15T01:49:52.581984Z",
     "iopub.status.idle": "2023-02-15T01:49:59.957765Z",
     "shell.execute_reply": "2023-02-15T01:49:59.956590Z"
    },
    "papermill": {
     "duration": 7.717723,
     "end_time": "2023-02-15T01:49:59.961125",
     "exception": false,
     "start_time": "2023-02-15T01:49:52.243402",
     "status": "completed"
    },
    "tags": []
   },
   "outputs": [
    {
     "name": "stdout",
     "output_type": "stream",
     "text": [
      "375/375 [==============================] - 7s 20ms/step - loss: 0.6817 - accuracy: 0.8693\n"
     ]
    }
   ],
   "source": [
    "# Evaluate the model\n",
    "model_evaluation = model.evaluate(val_ds)"
   ]
  },
  {
   "cell_type": "code",
   "execution_count": 34,
   "id": "d04251fd",
   "metadata": {
    "execution": {
     "iopub.execute_input": "2023-02-15T01:50:00.754543Z",
     "iopub.status.busy": "2023-02-15T01:50:00.753838Z",
     "iopub.status.idle": "2023-02-15T01:50:32.337103Z",
     "shell.execute_reply": "2023-02-15T01:50:32.336230Z"
    },
    "papermill": {
     "duration": 32.027553,
     "end_time": "2023-02-15T01:50:32.339495",
     "exception": false,
     "start_time": "2023-02-15T01:50:00.311942",
     "status": "completed"
    },
    "tags": []
   },
   "outputs": [
    {
     "name": "stdout",
     "output_type": "stream",
     "text": [
      "1500/1500 [==============================] - 32s 20ms/step\n"
     ]
    }
   ],
   "source": [
    "# Generate model probabilities and associated predictions\n",
    "train_probabilities = model.predict(train_ds, verbose=1)\n",
    "train_predictions = tf.argmax(train_probabilities, axis=1)"
   ]
  },
  {
   "cell_type": "code",
   "execution_count": 35,
   "id": "bcbf9921",
   "metadata": {
    "execution": {
     "iopub.execute_input": "2023-02-15T01:50:33.082956Z",
     "iopub.status.busy": "2023-02-15T01:50:33.082537Z",
     "iopub.status.idle": "2023-02-15T01:50:40.478094Z",
     "shell.execute_reply": "2023-02-15T01:50:40.476868Z"
    },
    "papermill": {
     "duration": 7.771201,
     "end_time": "2023-02-15T01:50:40.480656",
     "exception": false,
     "start_time": "2023-02-15T01:50:32.709455",
     "status": "completed"
    },
    "tags": []
   },
   "outputs": [
    {
     "name": "stdout",
     "output_type": "stream",
     "text": [
      "375/375 [==============================] - 7s 20ms/step\n"
     ]
    }
   ],
   "source": [
    "# Generate model probabilities and associated predictions\n",
    "val_probabilities = model.predict(val_ds, verbose=1)\n",
    "val_predictions = tf.argmax(val_probabilities, axis=1)"
   ]
  },
  {
   "cell_type": "markdown",
   "id": "ea3f2904",
   "metadata": {
    "papermill": {
     "duration": 0.37577,
     "end_time": "2023-02-15T01:50:41.288799",
     "exception": false,
     "start_time": "2023-02-15T01:50:40.913029",
     "status": "completed"
    },
    "tags": []
   },
   "source": [
    "<a id='6'></a>\n",
    "# 6 | Model Performance Evaluation\n",
    "\n",
    "Now that the model has trained on the data we need to inspect how well it performs on the validation data. In order to conduct this inspection we need to evaluate the performance of the model on the validation data and record evaluation metrics. Since the approach for this problem is a multi classification problem we'll make use of some well known classification metrics. Hence, we'll make use of the Scikit Learn library to inspect the model. We'll also use the following to inspect the model:\n",
    "\n",
    "> - [Classification Report](https://scikit-learn.org/stable/modules/generated/sklearn.metrics.classification_report.html#sklearn.metrics.classification_report)\n",
    "> - [Accuracy Score](https://scikit-learn.org/stable/modules/generated/sklearn.metrics.accuracy_score.html#sklearn.metrics.accuracy_score)\n",
    "> - [Precision](https://scikit-learn.org/stable/modules/generated/sklearn.metrics.precision_score.html#sklearn.metrics.precision_score)\n",
    "> - [Recall](https://scikit-learn.org/stable/modules/generated/sklearn.metrics.recall_score.html#sklearn.metrics.recall_score)\n",
    "> - [F1-score](https://scikit-learn.org/stable/modules/generated/sklearn.metrics.f1_score.html#sklearn.metrics.f1_score) \n",
    "> - [Matthews Correlation Coefficient](https://scikit-learn.org/stable/modules/generated/sklearn.metrics.matthews_corrcoef.html)"
   ]
  },
  {
   "cell_type": "markdown",
   "id": "a266fd82",
   "metadata": {
    "papermill": {
     "duration": 0.428781,
     "end_time": "2023-02-15T01:50:42.092815",
     "exception": false,
     "start_time": "2023-02-15T01:50:41.664034",
     "status": "completed"
    },
    "tags": []
   },
   "source": [
    "<a id='6.1'></a>\n",
    "### Plot Model Training History"
   ]
  },
  {
   "cell_type": "code",
   "execution_count": 36,
   "id": "c5d84956",
   "metadata": {
    "execution": {
     "iopub.execute_input": "2023-02-15T01:50:42.847539Z",
     "iopub.status.busy": "2023-02-15T01:50:42.846133Z",
     "iopub.status.idle": "2023-02-15T01:50:42.857859Z",
     "shell.execute_reply": "2023-02-15T01:50:42.857019Z"
    },
    "papermill": {
     "duration": 0.390891,
     "end_time": "2023-02-15T01:50:42.859865",
     "exception": false,
     "start_time": "2023-02-15T01:50:42.468974",
     "status": "completed"
    },
    "tags": []
   },
   "outputs": [],
   "source": [
    "def plot_training_curves(history):\n",
    "    \n",
    "    loss = np.array(history.history['loss'])\n",
    "    val_loss = np.array(history.history['val_loss'])\n",
    "\n",
    "    accuracy = np.array(history.history['accuracy'])\n",
    "    val_accuracy = np.array(history.history['val_accuracy'])\n",
    "\n",
    "    epochs = range(len(history.history['loss']))\n",
    "\n",
    "    fig, (ax1, ax2) = plt.subplots(1, 2, figsize=(20, 10))\n",
    "\n",
    "    # Plot loss\n",
    "    ax1.plot(epochs, loss, label='training_loss', marker='o')\n",
    "    ax1.plot(epochs, val_loss, label='val_loss', marker='o')\n",
    "    \n",
    "    ax1.fill_between(epochs, loss, val_loss, where=(loss > val_loss), color='C0', alpha=0.3, interpolate=True)\n",
    "    ax1.fill_between(epochs, loss, val_loss, where=(loss < val_loss), color='C1', alpha=0.3, interpolate=True)\n",
    "\n",
    "    ax1.set_title('Loss (Lower Means Better)', fontsize=16)\n",
    "    ax1.set_xlabel('Epochs', fontsize=12)\n",
    "    ax1.legend()\n",
    "\n",
    "    # Plot accuracy\n",
    "    ax2.plot(epochs, accuracy, label='training_accuracy', marker='o')\n",
    "    ax2.plot(epochs, val_accuracy, label='val_accuracy', marker='o')\n",
    "    \n",
    "    ax2.fill_between(epochs, accuracy, val_accuracy, where=(accuracy > val_accuracy), color='C0', alpha=0.3, interpolate=True)\n",
    "    ax2.fill_between(epochs, accuracy, val_accuracy, where=(accuracy < val_accuracy), color='C1', alpha=0.3, interpolate=True)\n",
    "\n",
    "    ax2.set_title('Accuracy (Higher Means Better)', fontsize=16)\n",
    "    ax2.set_xlabel('Epochs', fontsize=12)\n",
    "    ax2.legend();"
   ]
  },
  {
   "cell_type": "code",
   "execution_count": 37,
   "id": "bae716eb",
   "metadata": {
    "execution": {
     "iopub.execute_input": "2023-02-15T01:50:43.676172Z",
     "iopub.status.busy": "2023-02-15T01:50:43.673144Z",
     "iopub.status.idle": "2023-02-15T01:50:44.029356Z",
     "shell.execute_reply": "2023-02-15T01:50:44.028574Z"
    },
    "papermill": {
     "duration": 0.793995,
     "end_time": "2023-02-15T01:50:44.031177",
     "exception": false,
     "start_time": "2023-02-15T01:50:43.237182",
     "status": "completed"
    },
    "tags": []
   },
   "outputs": [
    {
     "data": {
      "image/png": "[encoded data removed]",
      "text/plain": [
       "<Figure size 1440x720 with 2 Axes>"
      ]
     },
     "metadata": {
      "needs_background": "light"
     },
     "output_type": "display_data"
    }
   ],
   "source": [
    "# plot model training history \n",
    "plot_training_curves(model_history)"
   ]
  },
  {
   "cell_type": "markdown",
   "id": "71b8a77d",
   "metadata": {
    "papermill": {
     "duration": 0.378336,
     "end_time": "2023-02-15T01:50:44.785888",
     "exception": false,
     "start_time": "2023-02-15T01:50:44.407552",
     "status": "completed"
    },
    "tags": []
   },
   "source": [
    "<div class=\"alert alert-block alert-info\">\n",
    "    <h4>Observation</h4>\n",
    "    We observe that overfitting may have occured during the first few expochs. We also observe that the model reached a plateau on the validation loss.\n",
    "</div>"
   ]
  },
  {
   "cell_type": "markdown",
   "id": "fd7431f8",
   "metadata": {
    "papermill": {
     "duration": 0.431734,
     "end_time": "2023-02-15T01:50:45.592331",
     "exception": false,
     "start_time": "2023-02-15T01:50:45.160597",
     "status": "completed"
    },
    "tags": []
   },
   "source": [
    "<a id='6.2'></a>\n",
    "### Plot Confusion Matrix"
   ]
  },
  {
   "cell_type": "code",
   "execution_count": 38,
   "id": "898c0455",
   "metadata": {
    "execution": {
     "iopub.execute_input": "2023-02-15T01:50:46.342670Z",
     "iopub.status.busy": "2023-02-15T01:50:46.342025Z",
     "iopub.status.idle": "2023-02-15T01:50:46.349302Z",
     "shell.execute_reply": "2023-02-15T01:50:46.348181Z"
    },
    "papermill": {
     "duration": 0.383913,
     "end_time": "2023-02-15T01:50:46.351691",
     "exception": false,
     "start_time": "2023-02-15T01:50:45.967778",
     "status": "completed"
    },
    "tags": []
   },
   "outputs": [],
   "source": [
    "def plot_confusion_matrix(y_true, y_pred, classes='auto', figsize=(10, 10), text_size=12): \n",
    "    # Generate confusion matrix \n",
    "    cm = confusion_matrix(y_true, y_pred)\n",
    "    \n",
    "    # Set plot size\n",
    "    plt.figure(figsize=figsize)\n",
    "\n",
    "    # Create confusion matrix heatmap\n",
    "    disp = sns.heatmap(\n",
    "        cm, annot=True, cmap='Greens',\n",
    "        annot_kws={\"size\": text_size}, fmt='g',\n",
    "        linewidths=1, linecolor='black', clip_on=False,\n",
    "        xticklabels=classes, yticklabels=classes)\n",
    "    \n",
    "    # Set title and axis labels\n",
    "    disp.set_title('Confusion Matrix', fontsize=24)\n",
    "    disp.set_xlabel('Predicted Label', fontsize=20) \n",
    "    disp.set_ylabel('True Label', fontsize=20)\n",
    "    plt.yticks(rotation=0) \n",
    "\n",
    "    # Plot confusion matrix\n",
    "    plt.show()\n",
    "    \n",
    "    return"
   ]
  },
  {
   "cell_type": "code",
   "execution_count": 39,
   "id": "ea3584e3",
   "metadata": {
    "execution": {
     "iopub.execute_input": "2023-02-15T01:50:47.165359Z",
     "iopub.status.busy": "2023-02-15T01:50:47.164713Z",
     "iopub.status.idle": "2023-02-15T01:50:47.409778Z",
     "shell.execute_reply": "2023-02-15T01:50:47.407904Z"
    },
    "papermill": {
     "duration": 0.687356,
     "end_time": "2023-02-15T01:50:47.413393",
     "exception": false,
     "start_time": "2023-02-15T01:50:46.726037",
     "status": "completed"
    },
    "tags": []
   },
   "outputs": [
    {
     "data": {
      "image/png": "[encoded data removed]",
      "text/plain": [
       "<Figure size 576x576 with 2 Axes>"
      ]
     },
     "metadata": {
      "needs_background": "light"
     },
     "output_type": "display_data"
    }
   ],
   "source": [
    "plot_confusion_matrix(\n",
    "    val_df.Rating - 1, \n",
    "    val_predictions, \n",
    "    figsize=(8, 8))"
   ]
  },
  {
   "cell_type": "markdown",
   "id": "5916505c",
   "metadata": {
    "papermill": {
     "duration": 0.377483,
     "end_time": "2023-02-15T01:50:48.171089",
     "exception": false,
     "start_time": "2023-02-15T01:50:47.793606",
     "status": "completed"
    },
    "tags": []
   },
   "source": [
    "<div class=\"alert alert-block alert-info\">\n",
    "    <h4>Observation</h4>\n",
    "    The model is able to classify the majority classes. However, the characteristics of a severly imbalanced dataset is present as the model struggles with predicting the minority classes.\n",
    "</div>"
   ]
  },
  {
   "cell_type": "markdown",
   "id": "7e4e6ce1",
   "metadata": {
    "papermill": {
     "duration": 0.390566,
     "end_time": "2023-02-15T01:50:48.940882",
     "exception": false,
     "start_time": "2023-02-15T01:50:48.550316",
     "status": "completed"
    },
    "tags": []
   },
   "source": [
    "<a id='6.3'></a>\n",
    "### Generate Classification Report"
   ]
  },
  {
   "cell_type": "code",
   "execution_count": 40,
   "id": "3a855b13",
   "metadata": {
    "execution": {
     "iopub.execute_input": "2023-02-15T01:50:49.761951Z",
     "iopub.status.busy": "2023-02-15T01:50:49.761585Z",
     "iopub.status.idle": "2023-02-15T01:50:49.782585Z",
     "shell.execute_reply": "2023-02-15T01:50:49.781392Z"
    },
    "papermill": {
     "duration": 0.404455,
     "end_time": "2023-02-15T01:50:49.785305",
     "exception": false,
     "start_time": "2023-02-15T01:50:49.380850",
     "status": "completed"
    },
    "tags": []
   },
   "outputs": [
    {
     "name": "stdout",
     "output_type": "stream",
     "text": [
      "              precision    recall  f1-score   support\n",
      "\n",
      "           0       0.85      0.96      0.91      3732\n",
      "           1       0.23      0.02      0.03       326\n",
      "           2       0.25      0.11      0.15       336\n",
      "           3       0.38      0.12      0.18       670\n",
      "           4       0.91      0.97      0.94      6936\n",
      "\n",
      "    accuracy                           0.87     12000\n",
      "   macro avg       0.52      0.44      0.44     12000\n",
      "weighted avg       0.82      0.87      0.84     12000\n",
      "\n"
     ]
    }
   ],
   "source": [
    "print(classification_report(val_df.Rating - 1, val_predictions))"
   ]
  },
  {
   "cell_type": "markdown",
   "id": "6e4f8d16",
   "metadata": {
    "papermill": {
     "duration": 0.3791,
     "end_time": "2023-02-15T01:50:50.542784",
     "exception": false,
     "start_time": "2023-02-15T01:50:50.163684",
     "status": "completed"
    },
    "tags": []
   },
   "source": [
    "<a id='6.4'></a>\n",
    "### Record Classification Metrics"
   ]
  },
  {
   "cell_type": "code",
   "execution_count": 41,
   "id": "313e8867",
   "metadata": {
    "execution": {
     "iopub.execute_input": "2023-02-15T01:50:51.355616Z",
     "iopub.status.busy": "2023-02-15T01:50:51.355277Z",
     "iopub.status.idle": "2023-02-15T01:50:51.364126Z",
     "shell.execute_reply": "2023-02-15T01:50:51.363018Z"
    },
    "papermill": {
     "duration": 0.38854,
     "end_time": "2023-02-15T01:50:51.366153",
     "exception": false,
     "start_time": "2023-02-15T01:50:50.977613",
     "status": "completed"
    },
    "tags": []
   },
   "outputs": [],
   "source": [
    "def generate_preformance_scores(y_true, y_pred, y_probabilities):\n",
    "    \n",
    "    model_accuracy = accuracy_score(y_true, y_pred)\n",
    "    top_2_accuracy = top_k_accuracy_score(y_true, y_probabilities, k=2)\n",
    "    model_precision, model_recall, model_f1, _ = precision_recall_fscore_support(y_true, \n",
    "                                                                                 y_pred, \n",
    "                                                                                 average=\"weighted\")\n",
    "    model_matthews_corrcoef = matthews_corrcoef(y_true, y_pred)\n",
    "    \n",
    "    print('=============================================')\n",
    "    print(f'\\nPerformance Metrics:\\n')\n",
    "    print('=============================================')\n",
    "    print(f'accuracy_score:\\t\\t{model_accuracy:.5f}\\n')\n",
    "    print('_____________________________________________')\n",
    "    print(f'top_2_accuracy_score:\\t{top_2_accuracy:.5f}\\n')\n",
    "    print('_____________________________________________')\n",
    "    print(f'precision_score:\\t{model_precision:.5f}\\n')\n",
    "    print('_____________________________________________')\n",
    "    print(f'recall_score:\\t\\t{model_recall:.5f}\\n')\n",
    "    print('_____________________________________________')\n",
    "    print(f'f1_score:\\t\\t{model_f1:.5f}\\n')\n",
    "    print('_____________________________________________')\n",
    "    print(f'matthews_corrcoef:\\t{model_matthews_corrcoef:.5f}\\n')\n",
    "    print('=============================================')\n",
    "    \n",
    "    preformance_scores = {\n",
    "        'accuracy_score': model_accuracy,\n",
    "        'top_2_accuracy_score': top_2_accuracy,\n",
    "        'precision_score': model_precision,\n",
    "        'recall_score': model_recall,\n",
    "        'f1_score': model_f1,\n",
    "        'matthews_corrcoef': model_matthews_corrcoef\n",
    "    }\n",
    "    \n",
    "    return preformance_scores"
   ]
  },
  {
   "cell_type": "code",
   "execution_count": 42,
   "id": "bb31c300",
   "metadata": {
    "execution": {
     "iopub.execute_input": "2023-02-15T01:50:52.129222Z",
     "iopub.status.busy": "2023-02-15T01:50:52.128644Z",
     "iopub.status.idle": "2023-02-15T01:50:52.146100Z",
     "shell.execute_reply": "2023-02-15T01:50:52.144934Z"
    },
    "papermill": {
     "duration": 0.404224,
     "end_time": "2023-02-15T01:50:52.148799",
     "exception": false,
     "start_time": "2023-02-15T01:50:51.744575",
     "status": "completed"
    },
    "tags": []
   },
   "outputs": [
    {
     "name": "stdout",
     "output_type": "stream",
     "text": [
      "=============================================\n",
      "\n",
      "Performance Metrics:\n",
      "\n",
      "=============================================\n",
      "accuracy_score:\t\t0.86933\n",
      "\n",
      "_____________________________________________\n",
      "top_2_accuracy_score:\t0.94458\n",
      "\n",
      "_____________________________________________\n",
      "precision_score:\t0.82387\n",
      "\n",
      "_____________________________________________\n",
      "recall_score:\t\t0.86933\n",
      "\n",
      "_____________________________________________\n",
      "f1_score:\t\t0.83793\n",
      "\n",
      "_____________________________________________\n",
      "matthews_corrcoef:\t0.76021\n",
      "\n",
      "=============================================\n"
     ]
    }
   ],
   "source": [
    "model_performance = generate_preformance_scores(val_df.Rating-1, val_predictions, val_probabilities)"
   ]
  },
  {
   "cell_type": "code",
   "execution_count": 43,
   "id": "3b4f1693",
   "metadata": {
    "execution": {
     "iopub.execute_input": "2023-02-15T01:50:52.958898Z",
     "iopub.status.busy": "2023-02-15T01:50:52.958179Z",
     "iopub.status.idle": "2023-02-15T01:50:52.966110Z",
     "shell.execute_reply": "2023-02-15T01:50:52.964253Z"
    },
    "papermill": {
     "duration": 0.443891,
     "end_time": "2023-02-15T01:50:52.968439",
     "exception": false,
     "start_time": "2023-02-15T01:50:52.524548",
     "status": "completed"
    },
    "tags": []
   },
   "outputs": [
    {
     "name": "stdout",
     "output_type": "stream",
     "text": [
      "Competition Metric Score\n",
      "=========================\n",
      "Train MAE:\t0.17808\n",
      "Validation MAE:\t0.23300\n",
      "=========================\n"
     ]
    }
   ],
   "source": [
    "# Inspect Competition Metric: Mean-Absolute-Error\n",
    "print('Competition Metric Score')\n",
    "print('=========================')\n",
    "print(f'Train MAE:\\t{mean_absolute_error(train_new_df.rating_encoded, train_predictions):.5f}')\n",
    "print(f'Validation MAE:\\t{mean_absolute_error(val_df.rating_encoded, val_predictions):.5f}')\n",
    "print('=========================')"
   ]
  },
  {
   "cell_type": "markdown",
   "id": "d772689d",
   "metadata": {
    "papermill": {
     "duration": 0.3861,
     "end_time": "2023-02-15T01:50:53.733843",
     "exception": false,
     "start_time": "2023-02-15T01:50:53.347743",
     "status": "completed"
    },
    "tags": []
   },
   "source": [
    "<div class=\"alert alert-block alert-info\">\n",
    "    <h4>Observation</h4>\n",
    "    The model was able to achive a Matthews Correlation Coefficient of ~0.76 which is decent. A high MCC implies that the model's predictions are statistically of high quality and that the model may generalise to unseen samples. Looking at the Compition Metric, the model seems to score a low validation MAE and we can observe a significant difference between the training and validation MAE scores.\n",
    "   <br><br>\n",
    "   <b>Since the model was able to score a high MCC, we should expect a similar LB MAE score as the validation MAE.</b>\n",
    "</div>"
   ]
  },
  {
   "cell_type": "markdown",
   "id": "2d518906",
   "metadata": {
    "papermill": {
     "duration": 0.438159,
     "end_time": "2023-02-15T01:50:54.549817",
     "exception": false,
     "start_time": "2023-02-15T01:50:54.111658",
     "status": "completed"
    },
    "tags": []
   },
   "source": [
    "<a id='7'></a>\n",
    "# 7 | Generate Submission\n",
    "\n",
    "With the model performance evaluation complete, we need to generate the submission file.\n",
    "\n",
    "<a id='7.1'></a>\n",
    "### Preprocess Test Reviews"
   ]
  },
  {
   "cell_type": "code",
   "execution_count": 44,
   "id": "0358a8be",
   "metadata": {
    "execution": {
     "iopub.execute_input": "2023-02-15T01:50:55.306489Z",
     "iopub.status.busy": "2023-02-15T01:50:55.306098Z",
     "iopub.status.idle": "2023-02-15T01:50:55.310364Z",
     "shell.execute_reply": "2023-02-15T01:50:55.309690Z"
    },
    "papermill": {
     "duration": 0.382199,
     "end_time": "2023-02-15T01:50:55.312069",
     "exception": false,
     "start_time": "2023-02-15T01:50:54.929870",
     "status": "completed"
    },
    "tags": []
   },
   "outputs": [],
   "source": [
    "def predict(model, test_reviews):\n",
    "    probabilities = model.predict(test_reviews, verbose=1)\n",
    "    predictions = tf.argmax(probabilities, axis=1)\n",
    "    return probabilities, predictions"
   ]
  },
  {
   "cell_type": "code",
   "execution_count": 45,
   "id": "92aa22ba",
   "metadata": {
    "execution": {
     "iopub.execute_input": "2023-02-15T01:50:56.123044Z",
     "iopub.status.busy": "2023-02-15T01:50:56.122192Z",
     "iopub.status.idle": "2023-02-15T01:50:56.829937Z",
     "shell.execute_reply": "2023-02-15T01:50:56.829000Z"
    },
    "papermill": {
     "duration": 1.1458,
     "end_time": "2023-02-15T01:50:56.832128",
     "exception": false,
     "start_time": "2023-02-15T01:50:55.686328",
     "status": "completed"
    },
    "tags": []
   },
   "outputs": [
    {
     "data": {
      "text/plain": [
       "(40000,)"
      ]
     },
     "execution_count": 45,
     "metadata": {},
     "output_type": "execute_result"
    }
   ],
   "source": [
    "# Preprocess Test Reviews\n",
    "test_reviews = test_df['Review'].apply(text_preprocessor)\n",
    "test_reviews.shape"
   ]
  },
  {
   "cell_type": "markdown",
   "id": "8e1c1b23",
   "metadata": {
    "papermill": {
     "duration": 0.379283,
     "end_time": "2023-02-15T01:50:57.587716",
     "exception": false,
     "start_time": "2023-02-15T01:50:57.208433",
     "status": "completed"
    },
    "tags": []
   },
   "source": [
    "<a id='7.2'></a>\n",
    "### Generate Test Predictions"
   ]
  },
  {
   "cell_type": "code",
   "execution_count": 46,
   "id": "29e848fd",
   "metadata": {
    "execution": {
     "iopub.execute_input": "2023-02-15T01:50:58.404914Z",
     "iopub.status.busy": "2023-02-15T01:50:58.404564Z",
     "iopub.status.idle": "2023-02-15T01:51:40.345960Z",
     "shell.execute_reply": "2023-02-15T01:51:40.344450Z"
    },
    "papermill": {
     "duration": 42.380539,
     "end_time": "2023-02-15T01:51:40.348559",
     "exception": false,
     "start_time": "2023-02-15T01:50:57.968020",
     "status": "completed"
    },
    "tags": []
   },
   "outputs": [
    {
     "name": "stdout",
     "output_type": "stream",
     "text": [
      "1250/1250 [==============================] - 26s 20ms/step\n"
     ]
    }
   ],
   "source": [
    "# Generate Test Predictions\n",
    "test_probabilities, test_predictions = predict(model, test_reviews)"
   ]
  },
  {
   "cell_type": "markdown",
   "id": "3b4a49d7",
   "metadata": {
    "papermill": {
     "duration": 0.39715,
     "end_time": "2023-02-15T01:51:41.146670",
     "exception": false,
     "start_time": "2023-02-15T01:51:40.749520",
     "status": "completed"
    },
    "tags": []
   },
   "source": [
    "<a id='7.3'></a>"
   ]
  },
  {
   "cell_type": "code",
   "execution_count": 47,
   "id": "85ed1525",
   "metadata": {
    "execution": {
     "iopub.execute_input": "2023-02-15T01:51:42.004389Z",
     "iopub.status.busy": "2023-02-15T01:51:42.004004Z",
     "iopub.status.idle": "2023-02-15T01:51:42.014927Z",
     "shell.execute_reply": "2023-02-15T01:51:42.013863Z"
    },
    "papermill": {
     "duration": 0.413999,
     "end_time": "2023-02-15T01:51:42.016717",
     "exception": false,
     "start_time": "2023-02-15T01:51:41.602718",
     "status": "completed"
    },
    "tags": []
   },
   "outputs": [
    {
     "data": {
      "text/html": [
       "<div>\n",
       "<style scoped>\n",
       "    .dataframe tbody tr th:only-of-type {\n",
       "        vertical-align: middle;\n",
       "    }\n",
       "\n",
       "    .dataframe tbody tr th {\n",
       "        vertical-align: top;\n",
       "    }\n",
       "\n",
       "    .dataframe thead th {\n",
       "        text-align: right;\n",
       "    }\n",
       "</style>\n",
       "<table border=\"1\" class=\"dataframe\">\n",
       "  <thead>\n",
       "    <tr style=\"text-align: right;\">\n",
       "      <th></th>\n",
       "      <th>Id</th>\n",
       "      <th>Rating</th>\n",
       "    </tr>\n",
       "  </thead>\n",
       "  <tbody>\n",
       "    <tr>\n",
       "      <th>0</th>\n",
       "      <td>60000</td>\n",
       "      <td>1</td>\n",
       "    </tr>\n",
       "    <tr>\n",
       "      <th>1</th>\n",
       "      <td>60001</td>\n",
       "      <td>5</td>\n",
       "    </tr>\n",
       "    <tr>\n",
       "      <th>2</th>\n",
       "      <td>60002</td>\n",
       "      <td>1</td>\n",
       "    </tr>\n",
       "    <tr>\n",
       "      <th>3</th>\n",
       "      <td>60003</td>\n",
       "      <td>5</td>\n",
       "    </tr>\n",
       "    <tr>\n",
       "      <th>4</th>\n",
       "      <td>60004</td>\n",
       "      <td>1</td>\n",
       "    </tr>\n",
       "  </tbody>\n",
       "</table>\n",
       "</div>"
      ],
      "text/plain": [
       "      Id  Rating\n",
       "0  60000       1\n",
       "1  60001       5\n",
       "2  60002       1\n",
       "3  60003       5\n",
       "4  60004       1"
      ]
     },
     "execution_count": 47,
     "metadata": {},
     "output_type": "execute_result"
    }
   ],
   "source": [
    "# Use the sample_subission dataframe to create the\n",
    "# submission csv for the test set predictions\n",
    "submission_df['Rating'] = test_predictions + 1 # Decode labels \n",
    "\n",
    "# View first 5 submission samples \n",
    "submission_df.head(5)"
   ]
  },
  {
   "cell_type": "code",
   "execution_count": 48,
   "id": "6b635e16",
   "metadata": {
    "execution": {
     "iopub.execute_input": "2023-02-15T01:51:42.870460Z",
     "iopub.status.busy": "2023-02-15T01:51:42.869925Z",
     "iopub.status.idle": "2023-02-15T01:51:43.022271Z",
     "shell.execute_reply": "2023-02-15T01:51:43.021445Z"
    },
    "papermill": {
     "duration": 0.608908,
     "end_time": "2023-02-15T01:51:43.024344",
     "exception": false,
     "start_time": "2023-02-15T01:51:42.415436",
     "status": "completed"
    },
    "tags": []
   },
   "outputs": [
    {
     "data": {
      "image/png": "[encoded data removed]",
      "text/plain": [
       "<Figure size 1008x576 with 1 Axes>"
      ]
     },
     "metadata": {
      "needs_background": "light"
     },
     "output_type": "display_data"
    }
   ],
   "source": [
    "# View Test Predictions Ratings Distribution\n",
    "plt.figure(figsize=(14, 8))\n",
    "plt.title('Test Prediction Ratings Distribution', fontsize=20)\n",
    "test_predictions_distribution = submission_df['Rating'].value_counts().sort_values()\n",
    "\n",
    "sns.barplot(x=test_predictions_distribution.values,\n",
    "            y=list(test_predictions_distribution.keys()),\n",
    "            orient=\"h\");"
   ]
  },
  {
   "cell_type": "markdown",
   "id": "6c6e6733",
   "metadata": {
    "papermill": {
     "duration": 0.406726,
     "end_time": "2023-02-15T01:51:43.828946",
     "exception": false,
     "start_time": "2023-02-15T01:51:43.422220",
     "status": "completed"
    },
    "tags": []
   },
   "source": [
    "<div class=\"alert alert-block alert-info\">\n",
    "    <h4>Observation</h4>\n",
    "    The test predictions resemble the train ratings distribution. However, we observe that the minority classes are overshadowed by the majority classes. This behavior should be addressed in future experiments.\n",
    "</div>"
   ]
  },
  {
   "cell_type": "markdown",
   "id": "6437e258",
   "metadata": {
    "papermill": {
     "duration": 0.402803,
     "end_time": "2023-02-15T01:51:44.693737",
     "exception": false,
     "start_time": "2023-02-15T01:51:44.290934",
     "status": "completed"
    },
    "tags": []
   },
   "source": [
    "<a id='7.4'></a>\n",
    "### Generate Submission.csv"
   ]
  },
  {
   "cell_type": "code",
   "execution_count": 49,
   "id": "431795e6",
   "metadata": {
    "execution": {
     "iopub.execute_input": "2023-02-15T01:51:45.494202Z",
     "iopub.status.busy": "2023-02-15T01:51:45.493835Z",
     "iopub.status.idle": "2023-02-15T01:51:45.536814Z",
     "shell.execute_reply": "2023-02-15T01:51:45.535604Z"
    },
    "papermill": {
     "duration": 0.444299,
     "end_time": "2023-02-15T01:51:45.539522",
     "exception": false,
     "start_time": "2023-02-15T01:51:45.095223",
     "status": "completed"
    },
    "tags": []
   },
   "outputs": [],
   "source": [
    "# Create submission csv\n",
    "submission_df.to_csv('submission.csv', index=False)"
   ]
  },
  {
   "cell_type": "markdown",
   "id": "3b9af1f4",
   "metadata": {
    "papermill": {
     "duration": 0.404782,
     "end_time": "2023-02-15T01:51:46.403777",
     "exception": false,
     "start_time": "2023-02-15T01:51:45.998995",
     "status": "completed"
    },
    "tags": []
   },
   "source": [
    "<a id='conclusion'></a>\n",
    "# <center><font style='color:#1D3557;'>Conclusion</font></center>\n",
    "\n",
    "In this notebook we built a baseline model to predict the sentiment of company reviews left by customers. We achieved this by using the Universal Sentence Encoder to generate text embeddings which where representative of the review texts, and fed these embeddings to a classification head. We achieved a Matthews Correlation Coefficient of ~0.76, which implies that the model's predictions are statistically of high quality and that the model will generalise to unseen samples.\n",
    "\n",
    "However, when looking at the model's confusion matrix and classification report we observe the characteristics of a severly imbalanced dataset. The model is unable to correctly predict review ratings which are between 1 and 5. Also, the classification approach might be adding to this bad model behavior as the loss function does not aim to minimize the competition metric (Mean Absolute Error). Therefore, it is recommended that an **ordinal text regression approach** should be followed as this approach will be focuse on minimizing the competition's metric and may achieve better results.\n",
    "\n",
    "<br>\n",
    "\n",
    "<center>\n",
    "    <div class=\"alert alert-block alert-success\">  \n",
    "        <h2>Thank you for taking the time to check out my notebook and I hope you found this insightful!</h2>\n",
    "    </div>\n",
    "</center>"
   ]
  }
 ],
 "metadata": {
  "kernelspec": {
   "display_name": "Python 3",
   "language": "python",
   "name": "python3"
  },
  "language_info": {
   "codemirror_mode": {
    "name": "ipython",
    "version": 3
   },
   "file_extension": ".py",
   "mimetype": "text/x-python",
   "name": "python",
   "nbconvert_exporter": "python",
   "pygments_lexer": "ipython3",
   "version": "3.7.12"
  },
  "papermill": {
   "default_parameters": {},
   "duration": 654.163802,
   "end_time": "2023-02-15T01:51:50.449246",
   "environment_variables": {},
   "exception": null,
   "input_path": "__notebook__.ipynb",
   "output_path": "__notebook__.ipynb",
   "parameters": {},
   "start_time": "2023-02-15T01:40:56.285444",
   "version": "2.3.4"
  }
 },
 "nbformat": 4,
 "nbformat_minor": 5
}
